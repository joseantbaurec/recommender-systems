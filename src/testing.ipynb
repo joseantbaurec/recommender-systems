{
 "cells": [
  {
   "cell_type": "code",
   "execution_count": 1,
   "metadata": {
    "is_executing": true
   },
   "outputs": [],
   "source": [
    "import pandas as pd\n",
    "from base.dataset import DataSet\n",
    "from base.plotting import plot_long_tail\n",
    "from models.baseline_model import BaselineRecommender"
   ]
  },
  {
   "cell_type": "code",
   "execution_count": 2,
   "metadata": {
    "ExecuteTime": {
     "end_time": "2023-06-07T20:50:53.931559Z",
     "start_time": "2023-06-07T20:50:53.928410Z"
    }
   },
   "outputs": [],
   "source": [
    "import os\n",
    "os.chdir('..')"
   ]
  },
  {
   "cell_type": "code",
   "execution_count": 3,
   "metadata": {
    "ExecuteTime": {
     "end_time": "2023-06-07T20:51:49.956419Z",
     "start_time": "2023-06-07T20:50:53.932080Z"
    }
   },
   "outputs": [
    {
     "name": "stdout",
     "output_type": "stream",
     "text": [
      "Reading file...\n",
      "Done!\n"
     ]
    }
   ],
   "source": [
    "dataset = DataSet.from_pickle(dataset_size='full')"
   ]
  },
  {
   "cell_type": "code",
   "execution_count": 4,
   "metadata": {
    "ExecuteTime": {
     "start_time": "2023-06-07T20:51:49.957568Z"
    }
   },
   "outputs": [
    {
     "name": "stdout",
     "output_type": "stream",
     "text": [
      "Extracting user-item confidence...\n",
      "Starting PySpark session...\n"
     ]
    },
    {
     "name": "stderr",
     "output_type": "stream",
     "text": [
      "Setting default log level to \"WARN\".\n",
      "To adjust logging level use sc.setLogLevel(newLevel). For SparkR, use setLogLevel(newLevel).\n",
      "23/06/08 00:03:35 WARN NativeCodeLoader: Unable to load native-hadoop library for your platform... using builtin-java classes where applicable\n"
     ]
    },
    {
     "name": "stdout",
     "output_type": "stream",
     "text": [
      "Training ALS model...\n"
     ]
    },
    {
     "name": "stderr",
     "output_type": "stream",
     "text": [
      "23/06/08 00:03:47 WARN GarbageCollectionMetrics: To enable non-built-in garbage collector(s) List(G1 Concurrent GC), users should configure it(them) to spark.eventLog.gcMetrics.youngGenerationGarbageCollectors or spark.eventLog.gcMetrics.oldGenerationGarbageCollectors\n",
      "23/06/08 00:04:07 WARN TaskSetManager: Stage 0 contains a task of very large size (36457 KiB). The maximum recommended task size is 1000 KiB.\n",
      "23/06/08 00:04:13 WARN PythonRunner: Detected deadlock while completing task 0.0 in stage 0 (TID 0): Attempting to kill Python Worker\n",
      "23/06/08 00:04:13 WARN TaskSetManager: Stage 1 contains a task of very large size (36457 KiB). The maximum recommended task size is 1000 KiB.\n",
      "23/06/08 00:04:17 WARN InstanceBuilder: Failed to load implementation from:dev.ludovic.netlib.blas.JNIBLAS\n",
      "23/06/08 00:04:17 WARN InstanceBuilder: Failed to load implementation from:dev.ludovic.netlib.blas.VectorBLAS\n",
      "23/06/08 00:04:18 WARN InstanceBuilder: Failed to load implementation from:dev.ludovic.netlib.lapack.JNILAPACK\n",
      "                                                                                \r"
     ]
    },
    {
     "name": "stdout",
     "output_type": "stream",
     "text": [
      "Done!\n"
     ]
    }
   ],
   "source": [
    "from models.matrix_factorization_model import MatrixFactorizationRecommender\n",
    "model = MatrixFactorizationRecommender(dataset)"
   ]
  },
  {
   "cell_type": "code",
   "execution_count": 5,
   "metadata": {},
   "outputs": [
    {
     "name": "stderr",
     "output_type": "stream",
     "text": [
      "100%|██████████| 100/100 [36:56<00:00, 22.17s/it]                               "
     ]
    },
    {
     "name": "stdout",
     "output_type": "stream",
     "text": [
      "------------------------------------\n",
      "Matrix Factorization implicit Recommender - Performance\n",
      "------------------------------------\n",
      "Model setup time: 75.079s\n",
      "Average time: 22.116s\n",
      "Worst time: 25.017s\n",
      "Best time: 21.473s\n"
     ]
    },
    {
     "name": "stderr",
     "output_type": "stream",
     "text": [
      "\n"
     ]
    }
   ],
   "source": [
    "model.evaluate_performance()"
   ]
  },
  {
   "cell_type": "code",
   "execution_count": 7,
   "metadata": {},
   "outputs": [
    {
     "name": "stderr",
     "output_type": "stream",
     "text": [
      "100%|██████████| 100/100 [37:01<00:00, 22.22s/it]                               "
     ]
    },
    {
     "name": "stdout",
     "output_type": "stream",
     "text": [
      "------------------------------------\n",
      "Matrix Factorization implicit Recommender - Validation statistics\n",
      "------------------------------------\n",
      "+--------------+---------+--------+---------+--------+\n",
      "|    Metric    | Average | Median | Highest | Lowest |\n",
      "+--------------+---------+--------+---------+--------+\n",
      "|    MAP@10    |  0.2083 | 0.1056 |  1.0000 | 0.0000 |\n",
      "|     R@10     |  0.3839 | 0.4643 |  1.0000 | 0.0000 |\n",
      "| P@10 (HR@10) |  9.60%  | 10.00% |  50.00% | 0.00%  |\n",
      "|   Rank@10    |  3.1429 | 2.0000 | 10.0000 | 1.0000 |\n",
      "|  RecRank@10  |  0.3485 | 0.2000 |  1.0000 | 0.0000 |\n",
      "+--------------+---------+--------+---------+--------+\n",
      "------------------------------------\n",
      "Matrix Factorization implicit Recommender - Full statistics\n",
      "------------------------------------\n",
      "+--------------+---------+--------+---------+--------+\n",
      "|    Metric    | Average | Median | Highest | Lowest |\n",
      "+--------------+---------+--------+---------+--------+\n",
      "|    MAP@10    |  0.3173 | 0.3022 |  1.0000 | 0.0000 |\n",
      "|     R@10     |  0.2920 | 0.2792 |  0.6154 | 0.0000 |\n",
      "| P@10 (HR@10) |  39.40% | 40.00% | 100.00% | 0.00%  |\n",
      "|   Rank@10    |  1.3261 | 1.0000 |  7.0000 | 1.0000 |\n",
      "|  RecRank@10  |  0.8214 | 1.0000 |  1.0000 | 0.0000 |\n",
      "+--------------+---------+--------+---------+--------+\n"
     ]
    },
    {
     "name": "stderr",
     "output_type": "stream",
     "text": [
      "\n"
     ]
    }
   ],
   "source": [
    "model.evaluate_accuracy(10)"
   ]
  },
  {
   "cell_type": "code",
   "execution_count": null,
   "metadata": {},
   "outputs": [],
   "source": []
  }
 ],
 "metadata": {
  "kernelspec": {
   "display_name": "recommender-systems",
   "language": "python",
   "name": "recommender-systems"
  },
  "language_info": {
   "codemirror_mode": {
    "name": "ipython",
    "version": 3
   },
   "file_extension": ".py",
   "mimetype": "text/x-python",
   "name": "python",
   "nbconvert_exporter": "python",
   "pygments_lexer": "ipython3",
   "version": "3.10.8"
  }
 },
 "nbformat": 4,
 "nbformat_minor": 1
}
