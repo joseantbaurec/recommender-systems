{
 "cells": [
  {
   "cell_type": "code",
   "execution_count": 1,
   "metadata": {
    "ExecuteTime": {
     "end_time": "2023-06-17T09:33:27.641161Z",
     "start_time": "2023-06-17T09:33:19.370971Z"
    }
   },
   "outputs": [],
   "source": [
    "import \\\n",
    "    random\n",
    "\n",
    "import pandas as pd\n",
    "from base.dataset import DataSet\n",
    "from base.plotting import plot_long_tail\n",
    "from models.baseline_model import BaselineRecommender"
   ]
  },
  {
   "cell_type": "code",
   "execution_count": null,
   "metadata": {
    "is_executing": true
   },
   "outputs": [],
   "source": [
    "import os\n",
    "os.chdir('..')"
   ]
  },
  {
   "cell_type": "code",
   "execution_count": null,
   "metadata": {
    "is_executing": true
   },
   "outputs": [],
   "source": [
    "dataset = DataSet.from_pickle(dataset_size='full')"
   ]
  },
  {
   "cell_type": "code",
   "execution_count": 4,
   "outputs": [],
   "source": [
    "import pickle\n",
    "from models.word2vec_model import Word2VecRecommender\n",
    "with open('/Users/josean/Desktop/Playground/recommender-systems/data/models/word2vec.pickle','rb') as file:\n",
    "    model: Word2VecRecommender = pickle.load(file)"
   ],
   "metadata": {
    "collapsed": false,
    "ExecuteTime": {
     "end_time": "2023-06-17T09:35:00.270595Z",
     "start_time": "2023-06-17T09:34:11.539181Z"
    }
   }
  },
  {
   "cell_type": "code",
   "execution_count": 6,
   "outputs": [],
   "source": [
    "dataset: DataSet = model.dataset"
   ],
   "metadata": {
    "collapsed": false,
    "ExecuteTime": {
     "end_time": "2023-06-17T09:35:04.506491Z",
     "start_time": "2023-06-17T09:35:04.501991Z"
    }
   }
  },
  {
   "cell_type": "code",
   "execution_count": null,
   "metadata": {},
   "outputs": [],
   "source": [
    "model.evaluate_performance()"
   ]
  },
  {
   "cell_type": "code",
   "execution_count": 11,
   "metadata": {
    "ExecuteTime": {
     "end_time": "2023-06-17T10:09:47.228787Z",
     "start_time": "2023-06-17T10:09:42.563911Z"
    }
   },
   "outputs": [
    {
     "name": "stderr",
     "output_type": "stream",
     "text": [
      "100%|██████████| 100/100 [00:04<00:00, 21.47it/s]"
     ]
    },
    {
     "name": "stdout",
     "output_type": "stream",
     "text": [
      "------------------------------------\n",
      "Word2Vec SG session-based Recommender - Validation statistics\n",
      "------------------------------------\n",
      "+------------+---------+--------+---------+--------+\n",
      "|   Metric   | Average | Median | Highest | Lowest |\n",
      "+------------+---------+--------+---------+--------+\n",
      "|   MAP@10   |  0.0251 | 0.0000 |  0.5000 | 0.0000 |\n",
      "|    R@10    |  0.0811 | 0.0000 |  1.0000 | 0.0000 |\n",
      "|    P@10    |  2.00%  | 0.00%  |  20.00% | 0.00%  |\n",
      "|   HR@10    |  16.00% | 0.00%  | 100.00% | 0.00%  |\n",
      "|  Rank@10   |  5.0000 | 5.0000 |  9.0000 | 1.0000 |\n",
      "| RecRank@10 |  0.0533 | 0.0000 |  1.0000 | 0.0000 |\n",
      "+------------+---------+--------+---------+--------+\n",
      "------------------------------------\n",
      "Word2Vec SG session-based Recommender - Full statistics\n",
      "------------------------------------\n",
      "+------------+---------+---------+---------+--------+\n",
      "|   Metric   | Average |  Median | Highest | Lowest |\n",
      "+------------+---------+---------+---------+--------+\n",
      "|   MAP@10   |  0.0475 |  0.0143 |  0.4444 | 0.0000 |\n",
      "|    R@10    |  0.0798 |  0.0590 |  0.5000 | 0.0000 |\n",
      "|    P@10    |  9.10%  |  10.00% |  50.00% | 0.00%  |\n",
      "|   HR@10    |  56.00% | 100.00% | 100.00% | 0.00%  |\n",
      "|  Rank@10   |  3.6964 |  3.0000 | 10.0000 | 1.0000 |\n",
      "| RecRank@10 |  0.2660 |  0.1339 |  1.0000 | 0.0000 |\n",
      "+------------+---------+---------+---------+--------+\n"
     ]
    },
    {
     "name": "stderr",
     "output_type": "stream",
     "text": [
      "\n"
     ]
    }
   ],
   "source": [
    "model.evaluate_accuracy(10,n_runs=100)"
   ]
  },
  {
   "cell_type": "code",
   "execution_count": 14,
   "metadata": {
    "ExecuteTime": {
     "end_time": "2023-06-16T20:47:43.391935Z",
     "start_time": "2023-06-16T20:47:43.331647Z"
    }
   },
   "outputs": [
    {
     "name": "stdout",
     "output_type": "stream",
     "text": [
      "U-531575010 P-3700683\n"
     ]
    },
    {
     "data": {
      "text/plain": "                    category_id                  category_code    brand   \nproduct_id                                                                \nP-1004361   2053013555631882655         electronics.smartphone    apple  \\\nP-1002524   2053013555631882655         electronics.smartphone    apple   \nP-2900958   2053013554776244595   appliances.kitchen.microwave      arg   \nP-28716499  2053013565782098913                  apparel.shoes  respect   \nP-1004227   2053013555631882655         electronics.smartphone    apple   \nP-1004767   2053013555631882655         electronics.smartphone  samsung   \nP-3700621   2053013565983425517  appliances.environment.vacuum    vitek   \nP-3701134   2053013565983425517  appliances.environment.vacuum    bosch   \nP-3701088   2053013565983425517  appliances.environment.vacuum    bosch   \nP-3701136   2053013565983425517  appliances.environment.vacuum   hoover   \nP-3700683   2053013565983425517  appliances.environment.vacuum    tefal   \nP-1004858   2053013555631882655         electronics.smartphone  samsung   \n\n              price category_code_L1 category_code_L2 category_code_L3   \nproduct_id                                                               \nP-1004361   1449.20      electronics       smartphone             None  \\\nP-1002524    584.31      electronics       smartphone             None   \nP-2900958     61.75       appliances          kitchen        microwave   \nP-28716499   154.19          apparel            shoes             None   \nP-1004227   1157.56      electronics       smartphone             None   \nP-1004767    277.97      electronics       smartphone             None   \nP-3700621    120.96       appliances      environment           vacuum   \nP-3701134    115.81       appliances      environment           vacuum   \nP-3701088    105.51       appliances      environment           vacuum   \nP-3701136     98.56       appliances      environment           vacuum   \nP-3700683    162.14       appliances      environment           vacuum   \nP-1004858    136.17      electronics       smartphone             None   \n\n           category_code_L4  \nproduct_id                   \nP-1004361              None  \nP-1002524              None  \nP-2900958              None  \nP-28716499             None  \nP-1004227              None  \nP-1004767              None  \nP-3700621              None  \nP-3701134              None  \nP-3701088              None  \nP-3701136              None  \nP-3700683              None  \nP-1004858              None  ",
      "text/html": "<div>\n<style scoped>\n    .dataframe tbody tr th:only-of-type {\n        vertical-align: middle;\n    }\n\n    .dataframe tbody tr th {\n        vertical-align: top;\n    }\n\n    .dataframe thead th {\n        text-align: right;\n    }\n</style>\n<table border=\"1\" class=\"dataframe\">\n  <thead>\n    <tr style=\"text-align: right;\">\n      <th></th>\n      <th>category_id</th>\n      <th>category_code</th>\n      <th>brand</th>\n      <th>price</th>\n      <th>category_code_L1</th>\n      <th>category_code_L2</th>\n      <th>category_code_L3</th>\n      <th>category_code_L4</th>\n    </tr>\n    <tr>\n      <th>product_id</th>\n      <th></th>\n      <th></th>\n      <th></th>\n      <th></th>\n      <th></th>\n      <th></th>\n      <th></th>\n      <th></th>\n    </tr>\n  </thead>\n  <tbody>\n    <tr>\n      <th>P-1004361</th>\n      <td>2053013555631882655</td>\n      <td>electronics.smartphone</td>\n      <td>apple</td>\n      <td>1449.20</td>\n      <td>electronics</td>\n      <td>smartphone</td>\n      <td>None</td>\n      <td>None</td>\n    </tr>\n    <tr>\n      <th>P-1002524</th>\n      <td>2053013555631882655</td>\n      <td>electronics.smartphone</td>\n      <td>apple</td>\n      <td>584.31</td>\n      <td>electronics</td>\n      <td>smartphone</td>\n      <td>None</td>\n      <td>None</td>\n    </tr>\n    <tr>\n      <th>P-2900958</th>\n      <td>2053013554776244595</td>\n      <td>appliances.kitchen.microwave</td>\n      <td>arg</td>\n      <td>61.75</td>\n      <td>appliances</td>\n      <td>kitchen</td>\n      <td>microwave</td>\n      <td>None</td>\n    </tr>\n    <tr>\n      <th>P-28716499</th>\n      <td>2053013565782098913</td>\n      <td>apparel.shoes</td>\n      <td>respect</td>\n      <td>154.19</td>\n      <td>apparel</td>\n      <td>shoes</td>\n      <td>None</td>\n      <td>None</td>\n    </tr>\n    <tr>\n      <th>P-1004227</th>\n      <td>2053013555631882655</td>\n      <td>electronics.smartphone</td>\n      <td>apple</td>\n      <td>1157.56</td>\n      <td>electronics</td>\n      <td>smartphone</td>\n      <td>None</td>\n      <td>None</td>\n    </tr>\n    <tr>\n      <th>P-1004767</th>\n      <td>2053013555631882655</td>\n      <td>electronics.smartphone</td>\n      <td>samsung</td>\n      <td>277.97</td>\n      <td>electronics</td>\n      <td>smartphone</td>\n      <td>None</td>\n      <td>None</td>\n    </tr>\n    <tr>\n      <th>P-3700621</th>\n      <td>2053013565983425517</td>\n      <td>appliances.environment.vacuum</td>\n      <td>vitek</td>\n      <td>120.96</td>\n      <td>appliances</td>\n      <td>environment</td>\n      <td>vacuum</td>\n      <td>None</td>\n    </tr>\n    <tr>\n      <th>P-3701134</th>\n      <td>2053013565983425517</td>\n      <td>appliances.environment.vacuum</td>\n      <td>bosch</td>\n      <td>115.81</td>\n      <td>appliances</td>\n      <td>environment</td>\n      <td>vacuum</td>\n      <td>None</td>\n    </tr>\n    <tr>\n      <th>P-3701088</th>\n      <td>2053013565983425517</td>\n      <td>appliances.environment.vacuum</td>\n      <td>bosch</td>\n      <td>105.51</td>\n      <td>appliances</td>\n      <td>environment</td>\n      <td>vacuum</td>\n      <td>None</td>\n    </tr>\n    <tr>\n      <th>P-3701136</th>\n      <td>2053013565983425517</td>\n      <td>appliances.environment.vacuum</td>\n      <td>hoover</td>\n      <td>98.56</td>\n      <td>appliances</td>\n      <td>environment</td>\n      <td>vacuum</td>\n      <td>None</td>\n    </tr>\n    <tr>\n      <th>P-3700683</th>\n      <td>2053013565983425517</td>\n      <td>appliances.environment.vacuum</td>\n      <td>tefal</td>\n      <td>162.14</td>\n      <td>appliances</td>\n      <td>environment</td>\n      <td>vacuum</td>\n      <td>None</td>\n    </tr>\n    <tr>\n      <th>P-1004858</th>\n      <td>2053013555631882655</td>\n      <td>electronics.smartphone</td>\n      <td>samsung</td>\n      <td>136.17</td>\n      <td>electronics</td>\n      <td>smartphone</td>\n      <td>None</td>\n      <td>None</td>\n    </tr>\n  </tbody>\n</table>\n</div>"
     },
     "execution_count": 14,
     "metadata": {},
     "output_type": "execute_result"
    }
   ],
   "source": [
    "user = dataset.get_random_user().name\n",
    "product = dataset.get_random_product_from_user(user)\n",
    "print(user,product)\n",
    "dataset.products.loc[dataset.users.loc[user,'relevant_items']]"
   ]
  },
  {
   "cell_type": "code",
   "execution_count": 15,
   "outputs": [
    {
     "data": {
      "text/plain": "              brand   price category_code_L1 category_code_L2   \nproduct_id                                                      \nP-3700677     tefal  175.01       appliances      environment  \\\nP-3700777   samsung  236.56       appliances      environment   \nP-3700127        lg  227.02       appliances      environment   \nP-3701164     bosch  110.10       appliances      environment   \nP-3700991     tefal  167.06       appliances      environment   \nP-3700829   samsung  143.89       appliances      environment   \nP-3700709   karcher  121.24       appliances      environment   \nP-3701088     bosch  105.51       appliances      environment   \nP-3700039        lg  192.85       appliances      environment   \nP-3700245   philips  123.53       appliances      environment   \n\n           category_code_L3 category_code_L4  \nproduct_id                                    \nP-3700677            vacuum             None  \nP-3700777            vacuum             None  \nP-3700127            vacuum             None  \nP-3701164            vacuum             None  \nP-3700991            vacuum             None  \nP-3700829            vacuum             None  \nP-3700709            vacuum             None  \nP-3701088            vacuum             None  \nP-3700039            vacuum             None  \nP-3700245            vacuum             None  ",
      "text/html": "<div>\n<style scoped>\n    .dataframe tbody tr th:only-of-type {\n        vertical-align: middle;\n    }\n\n    .dataframe tbody tr th {\n        vertical-align: top;\n    }\n\n    .dataframe thead th {\n        text-align: right;\n    }\n</style>\n<table border=\"1\" class=\"dataframe\">\n  <thead>\n    <tr style=\"text-align: right;\">\n      <th></th>\n      <th>brand</th>\n      <th>price</th>\n      <th>category_code_L1</th>\n      <th>category_code_L2</th>\n      <th>category_code_L3</th>\n      <th>category_code_L4</th>\n    </tr>\n    <tr>\n      <th>product_id</th>\n      <th></th>\n      <th></th>\n      <th></th>\n      <th></th>\n      <th></th>\n      <th></th>\n    </tr>\n  </thead>\n  <tbody>\n    <tr>\n      <th>P-3700677</th>\n      <td>tefal</td>\n      <td>175.01</td>\n      <td>appliances</td>\n      <td>environment</td>\n      <td>vacuum</td>\n      <td>None</td>\n    </tr>\n    <tr>\n      <th>P-3700777</th>\n      <td>samsung</td>\n      <td>236.56</td>\n      <td>appliances</td>\n      <td>environment</td>\n      <td>vacuum</td>\n      <td>None</td>\n    </tr>\n    <tr>\n      <th>P-3700127</th>\n      <td>lg</td>\n      <td>227.02</td>\n      <td>appliances</td>\n      <td>environment</td>\n      <td>vacuum</td>\n      <td>None</td>\n    </tr>\n    <tr>\n      <th>P-3701164</th>\n      <td>bosch</td>\n      <td>110.10</td>\n      <td>appliances</td>\n      <td>environment</td>\n      <td>vacuum</td>\n      <td>None</td>\n    </tr>\n    <tr>\n      <th>P-3700991</th>\n      <td>tefal</td>\n      <td>167.06</td>\n      <td>appliances</td>\n      <td>environment</td>\n      <td>vacuum</td>\n      <td>None</td>\n    </tr>\n    <tr>\n      <th>P-3700829</th>\n      <td>samsung</td>\n      <td>143.89</td>\n      <td>appliances</td>\n      <td>environment</td>\n      <td>vacuum</td>\n      <td>None</td>\n    </tr>\n    <tr>\n      <th>P-3700709</th>\n      <td>karcher</td>\n      <td>121.24</td>\n      <td>appliances</td>\n      <td>environment</td>\n      <td>vacuum</td>\n      <td>None</td>\n    </tr>\n    <tr>\n      <th>P-3701088</th>\n      <td>bosch</td>\n      <td>105.51</td>\n      <td>appliances</td>\n      <td>environment</td>\n      <td>vacuum</td>\n      <td>None</td>\n    </tr>\n    <tr>\n      <th>P-3700039</th>\n      <td>lg</td>\n      <td>192.85</td>\n      <td>appliances</td>\n      <td>environment</td>\n      <td>vacuum</td>\n      <td>None</td>\n    </tr>\n    <tr>\n      <th>P-3700245</th>\n      <td>philips</td>\n      <td>123.53</td>\n      <td>appliances</td>\n      <td>environment</td>\n      <td>vacuum</td>\n      <td>None</td>\n    </tr>\n  </tbody>\n</table>\n</div>"
     },
     "execution_count": 15,
     "metadata": {},
     "output_type": "execute_result"
    }
   ],
   "source": [
    "results, model_info = model.recommend(user,product)\n",
    "model_info"
   ],
   "metadata": {
    "collapsed": false,
    "ExecuteTime": {
     "end_time": "2023-06-16T20:47:45.261444Z",
     "start_time": "2023-06-16T20:47:45.244929Z"
    }
   }
  },
  {
   "cell_type": "code",
   "execution_count": 18,
   "outputs": [],
   "source": [
    "import pickle\n",
    "with open('/Users/josean/Desktop/Playground/recommender-systems/data/aux/sessions.pickle','wb') as file:\n",
    "    pickle.dump(model.sessions,file)"
   ],
   "metadata": {
    "collapsed": false,
    "ExecuteTime": {
     "end_time": "2023-06-16T20:54:52.858673Z",
     "start_time": "2023-06-16T20:54:40.715802Z"
    }
   }
  },
  {
   "cell_type": "code",
   "execution_count": 26,
   "outputs": [
    {
     "data": {
      "text/plain": "                       event_time event_type  product_id          category_id   \n0         2019-11-01 00:00:00 UTC       view   P-1003461  2053013555631882655  \\\n1         2019-11-01 00:00:00 UTC       view   P-5000088  2053013566100866035   \n2         2019-11-01 00:00:01 UTC       view   P-3601530  2053013563810775923   \n3         2019-11-01 00:00:01 UTC       view   P-1004775  2053013555631882655   \n4         2019-11-01 00:00:01 UTC       view   P-1306894  2053013558920217191   \n...                           ...        ...         ...                  ...   \n68650179  2019-10-31 23:59:58 UTC       view   P-1004870  2053013555631882655   \n68650180  2019-10-31 23:59:58 UTC       view   P-2702331  2053013563911439225   \n68650181  2019-10-31 23:59:58 UTC       view   P-2300275  2053013560530830019   \n68650182  2019-10-31 23:59:58 UTC       view   P-5701038  2053013553970938175   \n68650183  2019-10-31 23:59:59 UTC       view  P-21407424  2053013561579406073   \n\n                             category_code    brand   price      user_id   \n0                   electronics.smartphone   xiaomi  489.07  U-520088904  \\\n1                appliances.sewing_machine   janome  293.65  U-530496790   \n2                appliances.kitchen.washer       lg  712.87  U-518085591   \n3                   electronics.smartphone   xiaomi  183.27  U-558856683   \n4                       computers.notebook       hp  360.09  U-520772685   \n...                                    ...      ...     ...          ...   \n68650179            electronics.smartphone  samsung  275.25  U-518956209   \n68650180  appliances.kitchen.refrigerators       lg  527.43  U-524356542   \n68650181          electronics.camera.video    gopro  527.40  U-537931532   \n68650182           auto.accessories.player  kenwood  128.70  U-566280422   \n68650183                electronics.clocks   tissot  689.85  U-513118352   \n\n                                    user_session  \n0         S-4d3b30da-a5e4-49df-b1a8-ba5943f1dd33  \n1         S-8e5f4f83-366c-4f70-860e-ca7417414283  \n2         S-3bfb58cd-7892-48cc-8020-2f17e6de6e7f  \n3         S-313628f1-68b8-460d-84f6-cec7a8796ef2  \n4         S-816a59f3-f5ae-4ccd-9b23-82aa8c23d33c  \n...                                          ...  \n68650179  S-6764041a-9285-4869-8a32-a79adf31d212  \n68650180  S-153f9818-4d32-4e8b-ba9f-f355094e8ae4  \n68650181  S-22c57267-da98-4f28-9a9c-18bb5b385193  \n68650182  S-05b6c62b-992f-4e8e-91f7-961bcb4719cd  \n68650183  S-4c14bf2a-2820-4504-929d-046356a5a204  \n\n[68650184 rows x 9 columns]",
      "text/html": "<div>\n<style scoped>\n    .dataframe tbody tr th:only-of-type {\n        vertical-align: middle;\n    }\n\n    .dataframe tbody tr th {\n        vertical-align: top;\n    }\n\n    .dataframe thead th {\n        text-align: right;\n    }\n</style>\n<table border=\"1\" class=\"dataframe\">\n  <thead>\n    <tr style=\"text-align: right;\">\n      <th></th>\n      <th>event_time</th>\n      <th>event_type</th>\n      <th>product_id</th>\n      <th>category_id</th>\n      <th>category_code</th>\n      <th>brand</th>\n      <th>price</th>\n      <th>user_id</th>\n      <th>user_session</th>\n    </tr>\n  </thead>\n  <tbody>\n    <tr>\n      <th>0</th>\n      <td>2019-11-01 00:00:00 UTC</td>\n      <td>view</td>\n      <td>P-1003461</td>\n      <td>2053013555631882655</td>\n      <td>electronics.smartphone</td>\n      <td>xiaomi</td>\n      <td>489.07</td>\n      <td>U-520088904</td>\n      <td>S-4d3b30da-a5e4-49df-b1a8-ba5943f1dd33</td>\n    </tr>\n    <tr>\n      <th>1</th>\n      <td>2019-11-01 00:00:00 UTC</td>\n      <td>view</td>\n      <td>P-5000088</td>\n      <td>2053013566100866035</td>\n      <td>appliances.sewing_machine</td>\n      <td>janome</td>\n      <td>293.65</td>\n      <td>U-530496790</td>\n      <td>S-8e5f4f83-366c-4f70-860e-ca7417414283</td>\n    </tr>\n    <tr>\n      <th>2</th>\n      <td>2019-11-01 00:00:01 UTC</td>\n      <td>view</td>\n      <td>P-3601530</td>\n      <td>2053013563810775923</td>\n      <td>appliances.kitchen.washer</td>\n      <td>lg</td>\n      <td>712.87</td>\n      <td>U-518085591</td>\n      <td>S-3bfb58cd-7892-48cc-8020-2f17e6de6e7f</td>\n    </tr>\n    <tr>\n      <th>3</th>\n      <td>2019-11-01 00:00:01 UTC</td>\n      <td>view</td>\n      <td>P-1004775</td>\n      <td>2053013555631882655</td>\n      <td>electronics.smartphone</td>\n      <td>xiaomi</td>\n      <td>183.27</td>\n      <td>U-558856683</td>\n      <td>S-313628f1-68b8-460d-84f6-cec7a8796ef2</td>\n    </tr>\n    <tr>\n      <th>4</th>\n      <td>2019-11-01 00:00:01 UTC</td>\n      <td>view</td>\n      <td>P-1306894</td>\n      <td>2053013558920217191</td>\n      <td>computers.notebook</td>\n      <td>hp</td>\n      <td>360.09</td>\n      <td>U-520772685</td>\n      <td>S-816a59f3-f5ae-4ccd-9b23-82aa8c23d33c</td>\n    </tr>\n    <tr>\n      <th>...</th>\n      <td>...</td>\n      <td>...</td>\n      <td>...</td>\n      <td>...</td>\n      <td>...</td>\n      <td>...</td>\n      <td>...</td>\n      <td>...</td>\n      <td>...</td>\n    </tr>\n    <tr>\n      <th>68650179</th>\n      <td>2019-10-31 23:59:58 UTC</td>\n      <td>view</td>\n      <td>P-1004870</td>\n      <td>2053013555631882655</td>\n      <td>electronics.smartphone</td>\n      <td>samsung</td>\n      <td>275.25</td>\n      <td>U-518956209</td>\n      <td>S-6764041a-9285-4869-8a32-a79adf31d212</td>\n    </tr>\n    <tr>\n      <th>68650180</th>\n      <td>2019-10-31 23:59:58 UTC</td>\n      <td>view</td>\n      <td>P-2702331</td>\n      <td>2053013563911439225</td>\n      <td>appliances.kitchen.refrigerators</td>\n      <td>lg</td>\n      <td>527.43</td>\n      <td>U-524356542</td>\n      <td>S-153f9818-4d32-4e8b-ba9f-f355094e8ae4</td>\n    </tr>\n    <tr>\n      <th>68650181</th>\n      <td>2019-10-31 23:59:58 UTC</td>\n      <td>view</td>\n      <td>P-2300275</td>\n      <td>2053013560530830019</td>\n      <td>electronics.camera.video</td>\n      <td>gopro</td>\n      <td>527.40</td>\n      <td>U-537931532</td>\n      <td>S-22c57267-da98-4f28-9a9c-18bb5b385193</td>\n    </tr>\n    <tr>\n      <th>68650182</th>\n      <td>2019-10-31 23:59:58 UTC</td>\n      <td>view</td>\n      <td>P-5701038</td>\n      <td>2053013553970938175</td>\n      <td>auto.accessories.player</td>\n      <td>kenwood</td>\n      <td>128.70</td>\n      <td>U-566280422</td>\n      <td>S-05b6c62b-992f-4e8e-91f7-961bcb4719cd</td>\n    </tr>\n    <tr>\n      <th>68650183</th>\n      <td>2019-10-31 23:59:59 UTC</td>\n      <td>view</td>\n      <td>P-21407424</td>\n      <td>2053013561579406073</td>\n      <td>electronics.clocks</td>\n      <td>tissot</td>\n      <td>689.85</td>\n      <td>U-513118352</td>\n      <td>S-4c14bf2a-2820-4504-929d-046356a5a204</td>\n    </tr>\n  </tbody>\n</table>\n<p>68650184 rows × 9 columns</p>\n</div>"
     },
     "execution_count": 26,
     "metadata": {},
     "output_type": "execute_result"
    }
   ],
   "source": [
    "test_dataset: pd.DataFrame = dataset.all_transactions.copy()\n",
    "test_dataset"
   ],
   "metadata": {
    "collapsed": false,
    "ExecuteTime": {
     "end_time": "2023-06-17T11:07:04.587181Z",
     "start_time": "2023-06-17T11:06:53.680136Z"
    }
   }
  },
  {
   "cell_type": "code",
   "execution_count": 28,
   "outputs": [
    {
     "data": {
      "text/plain": "                                relevant_items  n_relevant   \nuser_id                                                      \nU-107837897  [P-4700199, P-4700419, P-4700557]           3  \\\nU-126150271                       [P-26900069]           1   \nU-128968633            [P-1004888, P-21401209]           2   \nU-149269892                        [P-3701081]           1   \nU-154128341                       [P-11700129]           1   \n...                                        ...         ...   \nU-579966375                        [P-1004856]           1   \nU-579967058                        [P-1004856]           1   \nU-579967455                        [P-1004767]           1   \nU-74383042                        [P-30901102]           1   \nU-94566147                         [P-1005007]           1   \n\n             validation_n_relevant  train_n_relevant   \nuser_id                                                \nU-107837897                      0                 3  \\\nU-126150271                      0                 1   \nU-128968633                      0                 2   \nU-149269892                      0                 1   \nU-154128341                      0                 1   \n...                            ...               ...   \nU-579966375                      0                 1   \nU-579967058                      0                 1   \nU-579967455                      0                 1   \nU-74383042                       0                 1   \nU-94566147                       0                 1   \n\n            validation_relevant_items               train_relevant_items  \nuser_id                                                                   \nU-107837897                        []  [P-4700199, P-4700419, P-4700557]  \nU-126150271                        []                       [P-26900069]  \nU-128968633                        []            [P-1004888, P-21401209]  \nU-149269892                        []                        [P-3701081]  \nU-154128341                        []                       [P-11700129]  \n...                               ...                                ...  \nU-579966375                        []                        [P-1004856]  \nU-579967058                        []                        [P-1004856]  \nU-579967455                        []                        [P-1004767]  \nU-74383042                         []                       [P-30901102]  \nU-94566147                         []                        [P-1005007]  \n\n[920357 rows x 6 columns]",
      "text/html": "<div>\n<style scoped>\n    .dataframe tbody tr th:only-of-type {\n        vertical-align: middle;\n    }\n\n    .dataframe tbody tr th {\n        vertical-align: top;\n    }\n\n    .dataframe thead th {\n        text-align: right;\n    }\n</style>\n<table border=\"1\" class=\"dataframe\">\n  <thead>\n    <tr style=\"text-align: right;\">\n      <th></th>\n      <th>relevant_items</th>\n      <th>n_relevant</th>\n      <th>validation_n_relevant</th>\n      <th>train_n_relevant</th>\n      <th>validation_relevant_items</th>\n      <th>train_relevant_items</th>\n    </tr>\n    <tr>\n      <th>user_id</th>\n      <th></th>\n      <th></th>\n      <th></th>\n      <th></th>\n      <th></th>\n      <th></th>\n    </tr>\n  </thead>\n  <tbody>\n    <tr>\n      <th>U-107837897</th>\n      <td>[P-4700199, P-4700419, P-4700557]</td>\n      <td>3</td>\n      <td>0</td>\n      <td>3</td>\n      <td>[]</td>\n      <td>[P-4700199, P-4700419, P-4700557]</td>\n    </tr>\n    <tr>\n      <th>U-126150271</th>\n      <td>[P-26900069]</td>\n      <td>1</td>\n      <td>0</td>\n      <td>1</td>\n      <td>[]</td>\n      <td>[P-26900069]</td>\n    </tr>\n    <tr>\n      <th>U-128968633</th>\n      <td>[P-1004888, P-21401209]</td>\n      <td>2</td>\n      <td>0</td>\n      <td>2</td>\n      <td>[]</td>\n      <td>[P-1004888, P-21401209]</td>\n    </tr>\n    <tr>\n      <th>U-149269892</th>\n      <td>[P-3701081]</td>\n      <td>1</td>\n      <td>0</td>\n      <td>1</td>\n      <td>[]</td>\n      <td>[P-3701081]</td>\n    </tr>\n    <tr>\n      <th>U-154128341</th>\n      <td>[P-11700129]</td>\n      <td>1</td>\n      <td>0</td>\n      <td>1</td>\n      <td>[]</td>\n      <td>[P-11700129]</td>\n    </tr>\n    <tr>\n      <th>...</th>\n      <td>...</td>\n      <td>...</td>\n      <td>...</td>\n      <td>...</td>\n      <td>...</td>\n      <td>...</td>\n    </tr>\n    <tr>\n      <th>U-579966375</th>\n      <td>[P-1004856]</td>\n      <td>1</td>\n      <td>0</td>\n      <td>1</td>\n      <td>[]</td>\n      <td>[P-1004856]</td>\n    </tr>\n    <tr>\n      <th>U-579967058</th>\n      <td>[P-1004856]</td>\n      <td>1</td>\n      <td>0</td>\n      <td>1</td>\n      <td>[]</td>\n      <td>[P-1004856]</td>\n    </tr>\n    <tr>\n      <th>U-579967455</th>\n      <td>[P-1004767]</td>\n      <td>1</td>\n      <td>0</td>\n      <td>1</td>\n      <td>[]</td>\n      <td>[P-1004767]</td>\n    </tr>\n    <tr>\n      <th>U-74383042</th>\n      <td>[P-30901102]</td>\n      <td>1</td>\n      <td>0</td>\n      <td>1</td>\n      <td>[]</td>\n      <td>[P-30901102]</td>\n    </tr>\n    <tr>\n      <th>U-94566147</th>\n      <td>[P-1005007]</td>\n      <td>1</td>\n      <td>0</td>\n      <td>1</td>\n      <td>[]</td>\n      <td>[P-1005007]</td>\n    </tr>\n  </tbody>\n</table>\n<p>920357 rows × 6 columns</p>\n</div>"
     },
     "execution_count": 28,
     "metadata": {},
     "output_type": "execute_result"
    }
   ],
   "source": [
    "users = dataset.users\n",
    "users"
   ],
   "metadata": {
    "collapsed": false,
    "ExecuteTime": {
     "end_time": "2023-06-17T11:07:59.952935Z",
     "start_time": "2023-06-17T11:07:59.948568Z"
    }
   }
  },
  {
   "cell_type": "code",
   "execution_count": 35,
   "outputs": [],
   "source": [
    "test_dataset['cut'] = test_dataset.apply(lambda row: row['product_id'] in users.loc[row['user_id'],'train_relevant_items'],axis=1)"
   ],
   "metadata": {
    "collapsed": false,
    "ExecuteTime": {
     "end_time": "2023-06-17T12:08:26.305903Z",
     "start_time": "2023-06-17T11:50:57.759711Z"
    }
   }
  },
  {
   "cell_type": "code",
   "execution_count": 32,
   "outputs": [],
   "source": [
    "def _get_users( train_test_split: float) -> pd.DataFrame:\n",
    "    users = dataset.all_transactions.groupby('user_id').agg(\n",
    "        relevant_items=('product_id', lambda x: list(x.drop_duplicates()))\n",
    "    )\n",
    "    users['n_relevant'] = users['relevant_items'].apply(len)\n",
    "    users['validation_n_relevant'] = (\n",
    "        train_test_split * users['n_relevant']\n",
    "    ).astype(int)\n",
    "    users['train_n_relevant'] = users['n_relevant'] - users['validation_n_relevant']\n",
    "    users[['validation_relevant_items', 'train_relevant_items']] = users.apply(\n",
    "        lambda row: (\n",
    "            row['relevant_items'][: row['validation_n_relevant']],\n",
    "            row['relevant_items'][row['validation_n_relevant'] :],\n",
    "        ),\n",
    "        axis=1,\n",
    "        result_type='expand',\n",
    "    )\n",
    "    return users"
   ],
   "metadata": {
    "collapsed": false,
    "ExecuteTime": {
     "end_time": "2023-06-17T11:11:06.549698Z",
     "start_time": "2023-06-17T11:11:06.544420Z"
    }
   }
  },
  {
   "cell_type": "code",
   "execution_count": 33,
   "outputs": [],
   "source": [
    "users = _get_users(0.2)"
   ],
   "metadata": {
    "collapsed": false,
    "ExecuteTime": {
     "end_time": "2023-06-17T11:17:54.550546Z",
     "start_time": "2023-06-17T11:11:21.307550Z"
    }
   }
  },
  {
   "cell_type": "code",
   "execution_count": 34,
   "outputs": [
    {
     "data": {
      "text/plain": "                                                relevant_items  n_relevant   \nuser_id                                                                      \nU-106416780                             [P-2500141, P-2501450]           2  \\\nU-107020671                             [P-6000004, P-6000120]           2   \nU-107837897  [P-6100190, P-4700199, P-4700605, P-4700419, P...           8   \nU-111805635                             [P-6000205, P-5701037]           2   \nU-116566414  [P-2702590, P-2702086, P-2702521, P-2701889, P...          14   \n...                                                        ...         ...   \nU-74383042   [P-6400344, P-30900030, P-30901135, P-30901102...           8   \nU-88309646                                         [P-1003906]           1   \nU-94566147   [P-1005007, P-1005256, P-1005066, P-1005008, P...           6   \nU-94584874                                         [P-1004740]           1   \nU-96041329   [P-5100678, P-5100674, P-5100849, P-5100328, P...          22   \n\n             validation_n_relevant  train_n_relevant   \nuser_id                                                \nU-106416780                      0                 2  \\\nU-107020671                      0                 2   \nU-107837897                      1                 7   \nU-111805635                      0                 2   \nU-116566414                      2                12   \n...                            ...               ...   \nU-74383042                       1                 7   \nU-88309646                       0                 1   \nU-94566147                       1                 5   \nU-94584874                       0                 1   \nU-96041329                       4                18   \n\n                                validation_relevant_items   \nuser_id                                                     \nU-106416780                                            []  \\\nU-107020671                                            []   \nU-107837897                                   [P-6100190]   \nU-111805635                                            []   \nU-116566414                        [P-2702590, P-2702086]   \n...                                                   ...   \nU-74383042                                    [P-6400344]   \nU-88309646                                             []   \nU-94566147                                    [P-1005007]   \nU-94584874                                             []   \nU-96041329   [P-5100678, P-5100674, P-5100849, P-5100328]   \n\n                                          train_relevant_items  \nuser_id                                                         \nU-106416780                             [P-2500141, P-2501450]  \nU-107020671                             [P-6000004, P-6000120]  \nU-107837897  [P-4700199, P-4700605, P-4700419, P-4700557, P...  \nU-111805635                             [P-6000205, P-5701037]  \nU-116566414  [P-2702521, P-2701889, P-2702522, P-2701845, P...  \n...                                                        ...  \nU-74383042   [P-30900030, P-30901135, P-30901102, P-3090105...  \nU-88309646                                         [P-1003906]  \nU-94566147   [P-1005256, P-1005066, P-1005008, P-1004905, P...  \nU-94584874                                         [P-1004740]  \nU-96041329   [P-5100581, P-5100676, P-5100850, P-5100721, P...  \n\n[4167673 rows x 6 columns]",
      "text/html": "<div>\n<style scoped>\n    .dataframe tbody tr th:only-of-type {\n        vertical-align: middle;\n    }\n\n    .dataframe tbody tr th {\n        vertical-align: top;\n    }\n\n    .dataframe thead th {\n        text-align: right;\n    }\n</style>\n<table border=\"1\" class=\"dataframe\">\n  <thead>\n    <tr style=\"text-align: right;\">\n      <th></th>\n      <th>relevant_items</th>\n      <th>n_relevant</th>\n      <th>validation_n_relevant</th>\n      <th>train_n_relevant</th>\n      <th>validation_relevant_items</th>\n      <th>train_relevant_items</th>\n    </tr>\n    <tr>\n      <th>user_id</th>\n      <th></th>\n      <th></th>\n      <th></th>\n      <th></th>\n      <th></th>\n      <th></th>\n    </tr>\n  </thead>\n  <tbody>\n    <tr>\n      <th>U-106416780</th>\n      <td>[P-2500141, P-2501450]</td>\n      <td>2</td>\n      <td>0</td>\n      <td>2</td>\n      <td>[]</td>\n      <td>[P-2500141, P-2501450]</td>\n    </tr>\n    <tr>\n      <th>U-107020671</th>\n      <td>[P-6000004, P-6000120]</td>\n      <td>2</td>\n      <td>0</td>\n      <td>2</td>\n      <td>[]</td>\n      <td>[P-6000004, P-6000120]</td>\n    </tr>\n    <tr>\n      <th>U-107837897</th>\n      <td>[P-6100190, P-4700199, P-4700605, P-4700419, P...</td>\n      <td>8</td>\n      <td>1</td>\n      <td>7</td>\n      <td>[P-6100190]</td>\n      <td>[P-4700199, P-4700605, P-4700419, P-4700557, P...</td>\n    </tr>\n    <tr>\n      <th>U-111805635</th>\n      <td>[P-6000205, P-5701037]</td>\n      <td>2</td>\n      <td>0</td>\n      <td>2</td>\n      <td>[]</td>\n      <td>[P-6000205, P-5701037]</td>\n    </tr>\n    <tr>\n      <th>U-116566414</th>\n      <td>[P-2702590, P-2702086, P-2702521, P-2701889, P...</td>\n      <td>14</td>\n      <td>2</td>\n      <td>12</td>\n      <td>[P-2702590, P-2702086]</td>\n      <td>[P-2702521, P-2701889, P-2702522, P-2701845, P...</td>\n    </tr>\n    <tr>\n      <th>...</th>\n      <td>...</td>\n      <td>...</td>\n      <td>...</td>\n      <td>...</td>\n      <td>...</td>\n      <td>...</td>\n    </tr>\n    <tr>\n      <th>U-74383042</th>\n      <td>[P-6400344, P-30900030, P-30901135, P-30901102...</td>\n      <td>8</td>\n      <td>1</td>\n      <td>7</td>\n      <td>[P-6400344]</td>\n      <td>[P-30900030, P-30901135, P-30901102, P-3090105...</td>\n    </tr>\n    <tr>\n      <th>U-88309646</th>\n      <td>[P-1003906]</td>\n      <td>1</td>\n      <td>0</td>\n      <td>1</td>\n      <td>[]</td>\n      <td>[P-1003906]</td>\n    </tr>\n    <tr>\n      <th>U-94566147</th>\n      <td>[P-1005007, P-1005256, P-1005066, P-1005008, P...</td>\n      <td>6</td>\n      <td>1</td>\n      <td>5</td>\n      <td>[P-1005007]</td>\n      <td>[P-1005256, P-1005066, P-1005008, P-1004905, P...</td>\n    </tr>\n    <tr>\n      <th>U-94584874</th>\n      <td>[P-1004740]</td>\n      <td>1</td>\n      <td>0</td>\n      <td>1</td>\n      <td>[]</td>\n      <td>[P-1004740]</td>\n    </tr>\n    <tr>\n      <th>U-96041329</th>\n      <td>[P-5100678, P-5100674, P-5100849, P-5100328, P...</td>\n      <td>22</td>\n      <td>4</td>\n      <td>18</td>\n      <td>[P-5100678, P-5100674, P-5100849, P-5100328]</td>\n      <td>[P-5100581, P-5100676, P-5100850, P-5100721, P...</td>\n    </tr>\n  </tbody>\n</table>\n<p>4167673 rows × 6 columns</p>\n</div>"
     },
     "execution_count": 34,
     "metadata": {},
     "output_type": "execute_result"
    }
   ],
   "source": [
    "users"
   ],
   "metadata": {
    "collapsed": false,
    "ExecuteTime": {
     "end_time": "2023-06-17T11:50:46.507813Z",
     "start_time": "2023-06-17T11:50:46.501998Z"
    }
   }
  },
  {
   "cell_type": "code",
   "execution_count": 36,
   "outputs": [
    {
     "data": {
      "text/plain": "                       event_time event_type  product_id          category_id   \n0         2019-11-01 00:00:00 UTC       view   P-1003461  2053013555631882655  \\\n1         2019-11-01 00:00:00 UTC       view   P-5000088  2053013566100866035   \n2         2019-11-01 00:00:01 UTC       view   P-3601530  2053013563810775923   \n3         2019-11-01 00:00:01 UTC       view   P-1004775  2053013555631882655   \n4         2019-11-01 00:00:01 UTC       view   P-1306894  2053013558920217191   \n...                           ...        ...         ...                  ...   \n68650179  2019-10-31 23:59:58 UTC       view   P-1004870  2053013555631882655   \n68650180  2019-10-31 23:59:58 UTC       view   P-2702331  2053013563911439225   \n68650181  2019-10-31 23:59:58 UTC       view   P-2300275  2053013560530830019   \n68650182  2019-10-31 23:59:58 UTC       view   P-5701038  2053013553970938175   \n68650183  2019-10-31 23:59:59 UTC       view  P-21407424  2053013561579406073   \n\n                             category_code    brand   price      user_id   \n0                   electronics.smartphone   xiaomi  489.07  U-520088904  \\\n1                appliances.sewing_machine   janome  293.65  U-530496790   \n2                appliances.kitchen.washer       lg  712.87  U-518085591   \n3                   electronics.smartphone   xiaomi  183.27  U-558856683   \n4                       computers.notebook       hp  360.09  U-520772685   \n...                                    ...      ...     ...          ...   \n68650179            electronics.smartphone  samsung  275.25  U-518956209   \n68650180  appliances.kitchen.refrigerators       lg  527.43  U-524356542   \n68650181          electronics.camera.video    gopro  527.40  U-537931532   \n68650182           auto.accessories.player  kenwood  128.70  U-566280422   \n68650183                electronics.clocks   tissot  689.85  U-513118352   \n\n                                    user_session    cut  \n0         S-4d3b30da-a5e4-49df-b1a8-ba5943f1dd33  False  \n1         S-8e5f4f83-366c-4f70-860e-ca7417414283   True  \n2         S-3bfb58cd-7892-48cc-8020-2f17e6de6e7f  False  \n3         S-313628f1-68b8-460d-84f6-cec7a8796ef2   True  \n4         S-816a59f3-f5ae-4ccd-9b23-82aa8c23d33c  False  \n...                                          ...    ...  \n68650179  S-6764041a-9285-4869-8a32-a79adf31d212   True  \n68650180  S-153f9818-4d32-4e8b-ba9f-f355094e8ae4   True  \n68650181  S-22c57267-da98-4f28-9a9c-18bb5b385193   True  \n68650182  S-05b6c62b-992f-4e8e-91f7-961bcb4719cd   True  \n68650183  S-4c14bf2a-2820-4504-929d-046356a5a204   True  \n\n[68650184 rows x 10 columns]",
      "text/html": "<div>\n<style scoped>\n    .dataframe tbody tr th:only-of-type {\n        vertical-align: middle;\n    }\n\n    .dataframe tbody tr th {\n        vertical-align: top;\n    }\n\n    .dataframe thead th {\n        text-align: right;\n    }\n</style>\n<table border=\"1\" class=\"dataframe\">\n  <thead>\n    <tr style=\"text-align: right;\">\n      <th></th>\n      <th>event_time</th>\n      <th>event_type</th>\n      <th>product_id</th>\n      <th>category_id</th>\n      <th>category_code</th>\n      <th>brand</th>\n      <th>price</th>\n      <th>user_id</th>\n      <th>user_session</th>\n      <th>cut</th>\n    </tr>\n  </thead>\n  <tbody>\n    <tr>\n      <th>0</th>\n      <td>2019-11-01 00:00:00 UTC</td>\n      <td>view</td>\n      <td>P-1003461</td>\n      <td>2053013555631882655</td>\n      <td>electronics.smartphone</td>\n      <td>xiaomi</td>\n      <td>489.07</td>\n      <td>U-520088904</td>\n      <td>S-4d3b30da-a5e4-49df-b1a8-ba5943f1dd33</td>\n      <td>False</td>\n    </tr>\n    <tr>\n      <th>1</th>\n      <td>2019-11-01 00:00:00 UTC</td>\n      <td>view</td>\n      <td>P-5000088</td>\n      <td>2053013566100866035</td>\n      <td>appliances.sewing_machine</td>\n      <td>janome</td>\n      <td>293.65</td>\n      <td>U-530496790</td>\n      <td>S-8e5f4f83-366c-4f70-860e-ca7417414283</td>\n      <td>True</td>\n    </tr>\n    <tr>\n      <th>2</th>\n      <td>2019-11-01 00:00:01 UTC</td>\n      <td>view</td>\n      <td>P-3601530</td>\n      <td>2053013563810775923</td>\n      <td>appliances.kitchen.washer</td>\n      <td>lg</td>\n      <td>712.87</td>\n      <td>U-518085591</td>\n      <td>S-3bfb58cd-7892-48cc-8020-2f17e6de6e7f</td>\n      <td>False</td>\n    </tr>\n    <tr>\n      <th>3</th>\n      <td>2019-11-01 00:00:01 UTC</td>\n      <td>view</td>\n      <td>P-1004775</td>\n      <td>2053013555631882655</td>\n      <td>electronics.smartphone</td>\n      <td>xiaomi</td>\n      <td>183.27</td>\n      <td>U-558856683</td>\n      <td>S-313628f1-68b8-460d-84f6-cec7a8796ef2</td>\n      <td>True</td>\n    </tr>\n    <tr>\n      <th>4</th>\n      <td>2019-11-01 00:00:01 UTC</td>\n      <td>view</td>\n      <td>P-1306894</td>\n      <td>2053013558920217191</td>\n      <td>computers.notebook</td>\n      <td>hp</td>\n      <td>360.09</td>\n      <td>U-520772685</td>\n      <td>S-816a59f3-f5ae-4ccd-9b23-82aa8c23d33c</td>\n      <td>False</td>\n    </tr>\n    <tr>\n      <th>...</th>\n      <td>...</td>\n      <td>...</td>\n      <td>...</td>\n      <td>...</td>\n      <td>...</td>\n      <td>...</td>\n      <td>...</td>\n      <td>...</td>\n      <td>...</td>\n      <td>...</td>\n    </tr>\n    <tr>\n      <th>68650179</th>\n      <td>2019-10-31 23:59:58 UTC</td>\n      <td>view</td>\n      <td>P-1004870</td>\n      <td>2053013555631882655</td>\n      <td>electronics.smartphone</td>\n      <td>samsung</td>\n      <td>275.25</td>\n      <td>U-518956209</td>\n      <td>S-6764041a-9285-4869-8a32-a79adf31d212</td>\n      <td>True</td>\n    </tr>\n    <tr>\n      <th>68650180</th>\n      <td>2019-10-31 23:59:58 UTC</td>\n      <td>view</td>\n      <td>P-2702331</td>\n      <td>2053013563911439225</td>\n      <td>appliances.kitchen.refrigerators</td>\n      <td>lg</td>\n      <td>527.43</td>\n      <td>U-524356542</td>\n      <td>S-153f9818-4d32-4e8b-ba9f-f355094e8ae4</td>\n      <td>True</td>\n    </tr>\n    <tr>\n      <th>68650181</th>\n      <td>2019-10-31 23:59:58 UTC</td>\n      <td>view</td>\n      <td>P-2300275</td>\n      <td>2053013560530830019</td>\n      <td>electronics.camera.video</td>\n      <td>gopro</td>\n      <td>527.40</td>\n      <td>U-537931532</td>\n      <td>S-22c57267-da98-4f28-9a9c-18bb5b385193</td>\n      <td>True</td>\n    </tr>\n    <tr>\n      <th>68650182</th>\n      <td>2019-10-31 23:59:58 UTC</td>\n      <td>view</td>\n      <td>P-5701038</td>\n      <td>2053013553970938175</td>\n      <td>auto.accessories.player</td>\n      <td>kenwood</td>\n      <td>128.70</td>\n      <td>U-566280422</td>\n      <td>S-05b6c62b-992f-4e8e-91f7-961bcb4719cd</td>\n      <td>True</td>\n    </tr>\n    <tr>\n      <th>68650183</th>\n      <td>2019-10-31 23:59:59 UTC</td>\n      <td>view</td>\n      <td>P-21407424</td>\n      <td>2053013561579406073</td>\n      <td>electronics.clocks</td>\n      <td>tissot</td>\n      <td>689.85</td>\n      <td>U-513118352</td>\n      <td>S-4c14bf2a-2820-4504-929d-046356a5a204</td>\n      <td>True</td>\n    </tr>\n  </tbody>\n</table>\n<p>68650184 rows × 10 columns</p>\n</div>"
     },
     "execution_count": 36,
     "metadata": {},
     "output_type": "execute_result"
    }
   ],
   "source": [
    "test_dataset"
   ],
   "metadata": {
    "collapsed": false,
    "ExecuteTime": {
     "end_time": "2023-06-17T12:46:30.890422Z",
     "start_time": "2023-06-17T12:46:30.884792Z"
    }
   }
  },
  {
   "cell_type": "code",
   "execution_count": 37,
   "outputs": [],
   "source": [
    "training_transactions = test_dataset[test_dataset['cut']]"
   ],
   "metadata": {
    "collapsed": false,
    "ExecuteTime": {
     "end_time": "2023-06-17T12:47:13.229734Z",
     "start_time": "2023-06-17T12:47:09.014143Z"
    }
   }
  },
  {
   "cell_type": "code",
   "execution_count": 38,
   "outputs": [],
   "source": [
    "with open('/Users/josean/Desktop/Playground/recommender-systems/data/shopping/training_transactions.pickle','wb') as file:\n",
    "    pickle.dump(training_transactions,file)"
   ],
   "metadata": {
    "collapsed": false,
    "ExecuteTime": {
     "end_time": "2023-06-17T12:49:21.591375Z",
     "start_time": "2023-06-17T12:48:23.365932Z"
    }
   }
  },
  {
   "cell_type": "code",
   "execution_count": 39,
   "outputs": [],
   "source": [
    "training_transactions.to_parquet('/Users/josean/Desktop/Playground/recommender-systems/data/shopping/training_transactions.parquet.gzip',compression='gzip')"
   ],
   "metadata": {
    "collapsed": false,
    "ExecuteTime": {
     "end_time": "2023-06-17T12:51:56.601048Z",
     "start_time": "2023-06-17T12:49:24.468087Z"
    }
   }
  },
  {
   "cell_type": "code",
   "execution_count": 40,
   "outputs": [],
   "source": [
    "users.to_parquet('/Users/josean/Desktop/Playground/recommender-systems/data/aux/users.parquet.gzip',compression='gzip')"
   ],
   "metadata": {
    "collapsed": false,
    "ExecuteTime": {
     "end_time": "2023-06-17T12:52:19.518965Z",
     "start_time": "2023-06-17T12:52:03.330179Z"
    }
   }
  },
  {
   "cell_type": "code",
   "execution_count": 43,
   "outputs": [],
   "source": [
    "df = pd.read_parquet('/Users/josean/Desktop/Playground/recommender-systems/data/shopping/e-commerce_smaller.parquet.gzip')"
   ],
   "metadata": {
    "collapsed": false,
    "ExecuteTime": {
     "end_time": "2023-06-17T18:14:58.757083Z",
     "start_time": "2023-06-17T18:14:44.008455Z"
    }
   }
  },
  {
   "cell_type": "code",
   "execution_count": 44,
   "outputs": [
    {
     "data": {
      "text/plain": "                       event_time event_type  product_id          category_id   \n22160310  2019-11-16 10:07:21 UTC       view     1200617  2172371436436455782  \\\n66397746  2019-10-29 01:13:07 UTC       view     1004741  2053013555631882655   \n2298269   2019-11-03 10:41:56 UTC       view     1307379  2053013558920217191   \n926980    2019-11-02 02:33:13 UTC       view    45600889  2116907524295753813   \n54355223  2019-10-15 13:46:53 UTC       view     1002544  2053013555631882655   \n...                           ...        ...         ...                  ...   \n44128392  2019-10-03 15:33:51 UTC       view    28713300  2053013565782098913   \n49314534  2019-10-10 04:00:27 UTC       view     4900330  2053013555220840837   \n2696822   2019-11-03 18:06:54 UTC       view     1005239  2053013555631882655   \n53941253  2019-10-15 06:38:59 UTC       view     1005163  2053013555631882655   \n56365335  2019-10-17 15:25:52 UTC       view     1004833  2053013555631882655   \n\n                      category_code     brand   price    user_id   \n22160310         electronics.tablet   samsung  141.55  512931539  \\\n66397746     electronics.smartphone    xiaomi  189.97  521316563   \n2298269          computers.notebook      asus  385.85  544060979   \n926980           apparel.shoes.keds  pablosky   63.06  537501464   \n54355223     electronics.smartphone     apple  460.31  551716606   \n...                             ...       ...     ...        ...   \n44128392              apparel.shoes    rieker   71.82  542686309   \n49314534  appliances.kitchen.juicer     vitek   61.70  552627671   \n2696822      electronics.smartphone    xiaomi  275.17  519053555   \n53941253     electronics.smartphone    xiaomi  294.67  538992383   \n56365335     electronics.smartphone   samsung  172.14  542115521   \n\n                                  user_session  \n22160310  db95ff7e-fa76-4cd0-8c5a-b93c87a6d33e  \n66397746  68e41083-d7c2-4557-9028-ae6937e44c15  \n2298269   4851e85d-0c6e-4d83-b1b1-8d6c8e8584ee  \n926980    379a7fb2-5f9a-4de9-bb1d-414f454e5196  \n54355223  b14bb162-d599-4353-8c3b-9d588094f166  \n...                                        ...  \n44128392  8bdd02e9-1436-41dd-8430-f7579fb43649  \n49314534  8a436d25-0532-433f-9800-422ce5f2427f  \n2696822   3679b037-aca6-4dd4-8b73-3f988282c67f  \n53941253  ee616065-162d-4bd4-b23d-aa35a6ba6102  \n56365335  3f53e2fd-63cc-4b1c-a559-64aba2621196  \n\n[17162546 rows x 9 columns]",
      "text/html": "<div>\n<style scoped>\n    .dataframe tbody tr th:only-of-type {\n        vertical-align: middle;\n    }\n\n    .dataframe tbody tr th {\n        vertical-align: top;\n    }\n\n    .dataframe thead th {\n        text-align: right;\n    }\n</style>\n<table border=\"1\" class=\"dataframe\">\n  <thead>\n    <tr style=\"text-align: right;\">\n      <th></th>\n      <th>event_time</th>\n      <th>event_type</th>\n      <th>product_id</th>\n      <th>category_id</th>\n      <th>category_code</th>\n      <th>brand</th>\n      <th>price</th>\n      <th>user_id</th>\n      <th>user_session</th>\n    </tr>\n  </thead>\n  <tbody>\n    <tr>\n      <th>22160310</th>\n      <td>2019-11-16 10:07:21 UTC</td>\n      <td>view</td>\n      <td>1200617</td>\n      <td>2172371436436455782</td>\n      <td>electronics.tablet</td>\n      <td>samsung</td>\n      <td>141.55</td>\n      <td>512931539</td>\n      <td>db95ff7e-fa76-4cd0-8c5a-b93c87a6d33e</td>\n    </tr>\n    <tr>\n      <th>66397746</th>\n      <td>2019-10-29 01:13:07 UTC</td>\n      <td>view</td>\n      <td>1004741</td>\n      <td>2053013555631882655</td>\n      <td>electronics.smartphone</td>\n      <td>xiaomi</td>\n      <td>189.97</td>\n      <td>521316563</td>\n      <td>68e41083-d7c2-4557-9028-ae6937e44c15</td>\n    </tr>\n    <tr>\n      <th>2298269</th>\n      <td>2019-11-03 10:41:56 UTC</td>\n      <td>view</td>\n      <td>1307379</td>\n      <td>2053013558920217191</td>\n      <td>computers.notebook</td>\n      <td>asus</td>\n      <td>385.85</td>\n      <td>544060979</td>\n      <td>4851e85d-0c6e-4d83-b1b1-8d6c8e8584ee</td>\n    </tr>\n    <tr>\n      <th>926980</th>\n      <td>2019-11-02 02:33:13 UTC</td>\n      <td>view</td>\n      <td>45600889</td>\n      <td>2116907524295753813</td>\n      <td>apparel.shoes.keds</td>\n      <td>pablosky</td>\n      <td>63.06</td>\n      <td>537501464</td>\n      <td>379a7fb2-5f9a-4de9-bb1d-414f454e5196</td>\n    </tr>\n    <tr>\n      <th>54355223</th>\n      <td>2019-10-15 13:46:53 UTC</td>\n      <td>view</td>\n      <td>1002544</td>\n      <td>2053013555631882655</td>\n      <td>electronics.smartphone</td>\n      <td>apple</td>\n      <td>460.31</td>\n      <td>551716606</td>\n      <td>b14bb162-d599-4353-8c3b-9d588094f166</td>\n    </tr>\n    <tr>\n      <th>...</th>\n      <td>...</td>\n      <td>...</td>\n      <td>...</td>\n      <td>...</td>\n      <td>...</td>\n      <td>...</td>\n      <td>...</td>\n      <td>...</td>\n      <td>...</td>\n    </tr>\n    <tr>\n      <th>44128392</th>\n      <td>2019-10-03 15:33:51 UTC</td>\n      <td>view</td>\n      <td>28713300</td>\n      <td>2053013565782098913</td>\n      <td>apparel.shoes</td>\n      <td>rieker</td>\n      <td>71.82</td>\n      <td>542686309</td>\n      <td>8bdd02e9-1436-41dd-8430-f7579fb43649</td>\n    </tr>\n    <tr>\n      <th>49314534</th>\n      <td>2019-10-10 04:00:27 UTC</td>\n      <td>view</td>\n      <td>4900330</td>\n      <td>2053013555220840837</td>\n      <td>appliances.kitchen.juicer</td>\n      <td>vitek</td>\n      <td>61.70</td>\n      <td>552627671</td>\n      <td>8a436d25-0532-433f-9800-422ce5f2427f</td>\n    </tr>\n    <tr>\n      <th>2696822</th>\n      <td>2019-11-03 18:06:54 UTC</td>\n      <td>view</td>\n      <td>1005239</td>\n      <td>2053013555631882655</td>\n      <td>electronics.smartphone</td>\n      <td>xiaomi</td>\n      <td>275.17</td>\n      <td>519053555</td>\n      <td>3679b037-aca6-4dd4-8b73-3f988282c67f</td>\n    </tr>\n    <tr>\n      <th>53941253</th>\n      <td>2019-10-15 06:38:59 UTC</td>\n      <td>view</td>\n      <td>1005163</td>\n      <td>2053013555631882655</td>\n      <td>electronics.smartphone</td>\n      <td>xiaomi</td>\n      <td>294.67</td>\n      <td>538992383</td>\n      <td>ee616065-162d-4bd4-b23d-aa35a6ba6102</td>\n    </tr>\n    <tr>\n      <th>56365335</th>\n      <td>2019-10-17 15:25:52 UTC</td>\n      <td>view</td>\n      <td>1004833</td>\n      <td>2053013555631882655</td>\n      <td>electronics.smartphone</td>\n      <td>samsung</td>\n      <td>172.14</td>\n      <td>542115521</td>\n      <td>3f53e2fd-63cc-4b1c-a559-64aba2621196</td>\n    </tr>\n  </tbody>\n</table>\n<p>17162546 rows × 9 columns</p>\n</div>"
     },
     "execution_count": 44,
     "metadata": {},
     "output_type": "execute_result"
    }
   ],
   "source": [
    "df"
   ],
   "metadata": {
    "collapsed": false,
    "ExecuteTime": {
     "end_time": "2023-06-17T18:15:02.429172Z",
     "start_time": "2023-06-17T18:15:02.421846Z"
    }
   }
  },
  {
   "cell_type": "code",
   "execution_count": 46,
   "outputs": [
    {
     "name": "stdout",
     "output_type": "stream",
     "text": [
      "Reading file...\n"
     ]
    }
   ],
   "source": [
    "with open('/Users/josean/Desktop/Playground/recommender-systems/data/shopping/e-commerce_dataset.pickle', 'rb') as file:\n",
    "    print('Reading file...')\n",
    "    new_dataset: DataSet = pickle.load(file)"
   ],
   "metadata": {
    "collapsed": false,
    "ExecuteTime": {
     "end_time": "2023-06-17T19:03:39.060753Z",
     "start_time": "2023-06-17T19:01:31.328898Z"
    }
   }
  },
  {
   "cell_type": "code",
   "execution_count": null,
   "outputs": [],
   "source": [],
   "metadata": {
    "collapsed": false
   }
  }
 ],
 "metadata": {
  "kernelspec": {
   "display_name": "recommender-systems",
   "language": "python",
   "name": "recommender-systems"
  },
  "language_info": {
   "codemirror_mode": {
    "name": "ipython",
    "version": 3
   },
   "file_extension": ".py",
   "mimetype": "text/x-python",
   "name": "python",
   "nbconvert_exporter": "python",
   "pygments_lexer": "ipython3",
   "version": "3.10.8"
  }
 },
 "nbformat": 4,
 "nbformat_minor": 1
}
