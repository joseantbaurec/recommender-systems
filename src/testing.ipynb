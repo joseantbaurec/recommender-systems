{
 "cells": [
  {
   "cell_type": "code",
   "execution_count": 1,
   "metadata": {
    "ExecuteTime": {
     "end_time": "2023-06-14T09:46:11.158608Z",
     "start_time": "2023-06-14T09:46:08.557444Z"
    }
   },
   "outputs": [],
   "source": [
    "import pandas as pd\n",
    "from base.dataset import DataSet\n",
    "from base.plotting import plot_long_tail\n",
    "from models.baseline_model import BaselineRecommender"
   ]
  },
  {
   "cell_type": "code",
   "execution_count": 2,
   "metadata": {
    "ExecuteTime": {
     "end_time": "2023-06-14T09:46:11.161625Z",
     "start_time": "2023-06-14T09:46:11.159529Z"
    }
   },
   "outputs": [],
   "source": [
    "import os\n",
    "os.chdir('..')"
   ]
  },
  {
   "cell_type": "code",
   "execution_count": 3,
   "metadata": {
    "ExecuteTime": {
     "end_time": "2023-06-14T09:47:07.263710Z",
     "start_time": "2023-06-14T09:46:11.162791Z"
    }
   },
   "outputs": [
    {
     "name": "stdout",
     "output_type": "stream",
     "text": [
      "Reading file...\n",
      "Done!\n"
     ]
    }
   ],
   "source": [
    "dataset = DataSet.from_pickle(dataset_size='full')"
   ]
  },
  {
   "cell_type": "code",
   "execution_count": 4,
   "metadata": {
    "ExecuteTime": {
     "end_time": "2023-06-14T09:52:06.066565Z",
     "start_time": "2023-06-14T09:47:07.264155Z"
    }
   },
   "outputs": [
    {
     "name": "stdout",
     "output_type": "stream",
     "text": [
      "Extracting user sessions...\n",
      "Training model...\n",
      "Done!\n"
     ]
    }
   ],
   "source": [
    "from models.word2vec_model import Word2VecRecommender\n",
    "model = Word2VecRecommender(dataset)"
   ]
  },
  {
   "cell_type": "code",
   "execution_count": 5,
   "metadata": {
    "ExecuteTime": {
     "end_time": "2023-06-14T09:52:12.252102Z",
     "start_time": "2023-06-14T09:52:06.068514Z"
    }
   },
   "outputs": [
    {
     "name": "stderr",
     "output_type": "stream",
     "text": [
      "100%|██████████| 100/100 [00:05<00:00, 16.81it/s]"
     ]
    },
    {
     "name": "stdout",
     "output_type": "stream",
     "text": [
      "------------------------------------\n",
      "Word2Vec SG session-based Recommender - Performance\n",
      "------------------------------------\n",
      "Model setup time: 296.003s\n",
      "Average time: 0.003s\n",
      "Worst time: 0.139s\n",
      "Best time: 0.001s\n"
     ]
    },
    {
     "name": "stderr",
     "output_type": "stream",
     "text": [
      "\n"
     ]
    }
   ],
   "source": [
    "model.evaluate_performance()"
   ]
  },
  {
   "cell_type": "code",
   "execution_count": 6,
   "metadata": {
    "ExecuteTime": {
     "end_time": "2023-06-14T09:52:16.975076Z",
     "start_time": "2023-06-14T09:52:12.253789Z"
    }
   },
   "outputs": [
    {
     "name": "stderr",
     "output_type": "stream",
     "text": [
      "100%|██████████| 100/100 [00:04<00:00, 21.24it/s]\n"
     ]
    },
    {
     "name": "stdout",
     "output_type": "stream",
     "text": [
      "------------------------------------\n",
      "Word2Vec SG session-based Recommender - Validation statistics\n",
      "------------------------------------\n",
      "+------------+---------+--------+---------+--------+\n",
      "|   Metric   | Average | Median | Highest | Lowest |\n",
      "+------------+---------+--------+---------+--------+\n",
      "|   MAP@10   |  0.0011 | 0.0000 |  0.1111 | 0.0000 |\n",
      "|    R@10    |  0.0033 | 0.0000 |  0.3333 | 0.0000 |\n",
      "|    P@10    |  0.10%  | 0.00%  |  10.00% | 0.00%  |\n",
      "|   HR@10    |  1.00%  | 0.00%  | 100.00% | 0.00%  |\n",
      "|  Rank@10   |  3.0000 | 3.0000 |  3.0000 | 3.0000 |\n",
      "| RecRank@10 |  0.0033 | 0.0000 |  0.3333 | 0.0000 |\n",
      "+------------+---------+--------+---------+--------+\n",
      "------------------------------------\n",
      "Word2Vec SG session-based Recommender - Full statistics\n",
      "------------------------------------\n",
      "+------------+---------+--------+---------+--------+\n",
      "|   Metric   | Average | Median | Highest | Lowest |\n",
      "+------------+---------+--------+---------+--------+\n",
      "|   MAP@10   |  0.0127 | 0.0000 |  0.3000 | 0.0000 |\n",
      "|    R@10    |  0.0187 | 0.0000 |  0.2857 | 0.0000 |\n",
      "|    P@10    |  2.30%  | 0.00%  |  40.00% | 0.00%  |\n",
      "|   HR@10    |  14.00% | 0.00%  | 100.00% | 0.00%  |\n",
      "|  Rank@10   |  3.1429 | 3.0000 |  9.0000 | 1.0000 |\n",
      "| RecRank@10 |  0.0748 | 0.0000 |  1.0000 | 0.0000 |\n",
      "+------------+---------+--------+---------+--------+\n"
     ]
    }
   ],
   "source": [
    "model.evaluate_accuracy(10)"
   ]
  },
  {
   "cell_type": "code",
   "execution_count": null,
   "metadata": {},
   "outputs": [],
   "source": []
  }
 ],
 "metadata": {
  "kernelspec": {
   "display_name": "recommender-systems",
   "language": "python",
   "name": "recommender-systems"
  },
  "language_info": {
   "codemirror_mode": {
    "name": "ipython",
    "version": 3
   },
   "file_extension": ".py",
   "mimetype": "text/x-python",
   "name": "python",
   "nbconvert_exporter": "python",
   "pygments_lexer": "ipython3",
   "version": "3.10.8"
  }
 },
 "nbformat": 4,
 "nbformat_minor": 1
}
