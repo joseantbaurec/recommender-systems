{
 "cells": [
  {
   "cell_type": "code",
   "execution_count": 1,
   "metadata": {
    "ExecuteTime": {
     "end_time": "2023-06-08T08:02:45.992194Z",
     "start_time": "2023-06-08T08:02:45.314251Z"
    }
   },
   "outputs": [],
   "source": [
    "from base.dataset import DataSet\n",
    "from base.plotting import plot_long_tail, plot_sample_recall_precision, plot_recall_precision, plot_together\n",
    "import os"
   ]
  },
  {
   "cell_type": "code",
   "execution_count": null,
   "metadata": {
    "ExecuteTime": {
     "end_time": "2023-06-02T10:08:07.358123Z",
     "start_time": "2023-06-02T10:08:07.348129Z"
    }
   },
   "outputs": [],
   "source": [
    "from IPython.display import display, HTML\n",
    "display(HTML(\"<style>.container { width:95% !important; }</style>\"))\n",
    "display(HTML(\"<style>.output_result { max-width:95% !important; }</style>\"))"
   ]
  },
  {
   "cell_type": "markdown",
   "metadata": {},
   "source": [
    "## Dataset building from transactions\n",
    "We will explore a dataset of a multi-purpose online store, providing us with a history of user-item interactions: views, purchases, save-to-carts...\n",
    "\n",
    "The objective is to experiment with a few models to see their benefits and drawbacks, and how to use those to specialize in certain tasks."
   ]
  },
  {
   "cell_type": "code",
   "execution_count": null,
   "metadata": {
    "ExecuteTime": {
     "end_time": "2023-05-27T10:52:40.677320Z",
     "start_time": "2023-05-27T10:51:28.433777Z"
    }
   },
   "outputs": [],
   "source": [
    "os.chdir('..')\n",
    "dataset = DataSet.from_pickle(dataset_size='full')"
   ]
  },
  {
   "cell_type": "markdown",
   "metadata": {},
   "source": [
    "Our dataset shows the typical case when working with recommender systems: **data sparcity** and **data imbalance**. When building a matrix of user-item interaction, it turns out to be _very very sparse_: users interact with relatively few items overall (data sparcity); meanwhile, popular items are few in quantity but frequent in activity, while most items only get interactions from a select group of users (data imbalance).\n",
    "\n",
    "This leads us to the (relatively obvious) conclusion that focusing on just recommending popular items will not take us very far."
   ]
  },
  {
   "cell_type": "code",
   "execution_count": 11,
   "metadata": {
    "ExecuteTime": {
     "end_time": "2023-05-27T10:46:39.784369Z",
     "start_time": "2023-05-27T10:46:39.267143Z"
    }
   },
   "outputs": [
    {
     "data": {
      "application/vnd.jupyter.widget-view+json": {
       "model_id": "195046bb737a41ca838691798808a66d",
       "version_major": 2,
       "version_minor": 0
      },
      "text/plain": [
       "HBox(children=(FigureWidget({\n",
       "    'data': [{'fillpattern': {'shape': ''},\n",
       "              'hovertemplate': 'prod…"
      ]
     },
     "execution_count": 11,
     "metadata": {},
     "output_type": "execute_result"
    }
   ],
   "source": [
    "sales_count = plot_long_tail(dataset.metrics, metric='sales_count')\n",
    "items_per_user = plot_long_tail(dataset.users, metric='n_relevant')\n",
    "plot_together(sales_count, items_per_user)"
   ]
  },
  {
   "cell_type": "markdown",
   "metadata": {},
   "source": [
    "### Test-train separation\n",
    "\n",
    "In this context, it is not straight-forward how the separation into test and train data should be done: given the importance of **continuity** and the interconnected nature of our dataset, it would be counter-productive to randomly divide our data.\n",
    "\n",
    "Different strategies are commonplace within the community, but the one we will use here is **user tail-withholding**: we exclude a percentage (train-test split) of the relevant items for each user, withholding that information from the model training. When it comes time to validate our model, we will measure \"accuracy\" (however that is defined for recommendation systems) three times: one for the training set, one for the validation set, and one for the full dataset. This way we can see how much our model \"memorized\" and how much it \"generalized\"."
   ]
  },
  {
   "cell_type": "markdown",
   "metadata": {},
   "source": [
    "## Measuring success\n",
    "\n",
    "For traditional binary classifiers, `precision = correct positive / predicted positive` (how often our positive predictions are accurate) and `recall = correct positive / actual positives` (how often we detect real positives).\n",
    "\n",
    "However, the power of recommender systems lies in that they are not \"hit-or-miss\" by only making one prediction. Instead, most frequently they return a **list** of several potential recommendations, probably ordered by likelihood of success. Therefore, accuracy in recommendations should take into account all given predictions, whether they were actually relevant or not, and how high in our list they were.\n",
    "\n",
    "Generalizing to several predictions, we can extend their definitions as follows. Assume we make `N` sorted recommendations, and let `0 < k <= N` be a positive number. Then, we define:\n",
    "- **Precision at k**: `P@k = relevant recommendations / k`, how many of my first `k` recommendations were relevant. Also called the **hit ratio at k** (`HR@k`).\n",
    "- **Recall at k**: `R@k = relevant recommendations / all relevant items`, how many of the possible relevant items we ended up recommending within our first `k` suggestions.\n",
    "- **Average Precision at k**: `AP@k = (P@1 * is_relevant(1) + ... + P@k * is_relevant(k)) / all relevant items`, a more subtle metric:\n",
    "    - `0 <= AP@k <= 1`, with a value of zero if none of the `k` recommendations were relevant, and with a value of one if `k = all relevant items` and all recommendations were relevant.\n",
    "    - `AP@k` is an increasing function of `k`, strictly so at `k` if the `k`-th recommendation is relevant and remaining constant otherwise.\n",
    "    - For a fixed `k`, it reaches a maximum value if all predictions are relevant.\n",
    "    - For a fixed `k` and same number of relevant predictions, `AP@k` is higher the earlier the relevant predictions are. If all relevant suggestions are at the beginning, then `AP@k = R@k`.\n",
    "    - Another formulation of `AP@k` reveals how it is an amalgamation of precision, recall and order of success: `AP@k = P@1 * (R@1 - R@0) + ... + P@k * (R@k - R@(k-1))` (where `R@0 = 0`).\n",
    "    - Variations of the formula replace `all relevant items` with `min(all relevant items, k)`, specially in cases where the number of recommendations given cannot be fairly compared against all possible relevant items. In any case, it only results in a scaling of `AP@k`.\n",
    "- **Mean Average Precision at k**: `MAP@k = (AP@k(u_1) + ... + AP@k(u_r)) / all users`, the mean over all users/recommendation batches of average precisions. This lets us measure the accuracy of our model by using only one metric, independently of the number of users.\n",
    "- **Rank at k**: the position of the first relevant suggestion when only considering the first `k`, 0 if none are.\n",
    "- **Reciprocal rank at k**: the inverse of **Rank at k**, 0 if undefined. Useful for calculating the **Mean Reciprocal Rank at k** of a model (`MRR@k`).\n",
    "- **Coverage**: `coverage = unique items ever recommended / all existing items`, a helpful measure to identify models that tend to default to only recommend \"popular\" and therefore \"safe\" items.\n",
    "\n",
    "For example, assume we make `N = 3` predictions, and there were a total of 5 possible relevant items for our given prompt. These are all possible outcomes:\n",
    "\n",
    "![](res/images/example_success_measures.png)\n",
    "\n",
    "By fixing a single recommendation batch and creating the parametrized curve `(R@k, P@k)`, we can see it always moves to the right (recall either increases or stays the same the more you recommend), but it can bounce up and down a lot (precision increases if you make a relevant suggestion, decreases otherwise):"
   ]
  },
  {
   "cell_type": "code",
   "execution_count": null,
   "metadata": {
    "ExecuteTime": {
     "end_time": "2023-05-27T10:52:51.981394Z",
     "start_time": "2023-05-27T10:52:51.778085Z"
    }
   },
   "outputs": [],
   "source": [
    "plot_sample_recall_precision(n_recommendations=100)"
   ]
  },
  {
   "cell_type": "code",
   "execution_count": null,
   "metadata": {
    "ExecuteTime": {
     "end_time": "2023-05-27T10:52:54.750428Z",
     "start_time": "2023-05-27T10:52:54.730107Z"
    }
   },
   "outputs": [],
   "source": [
    "anchor_user = dataset.get_random_user()\n",
    "anchor_item = dataset.get_random_product_from_user(anchor_user.name)\n",
    "print(f'Making recommendations for user {anchor_user.name}, with {anchor_user[\"relevant_items\"]} relevant items.')\n",
    "print(f'Chose item {anchor_item} as recommender prompt.')"
   ]
  },
  {
   "cell_type": "code",
   "execution_count": null,
   "metadata": {},
   "outputs": [],
   "source": [
    "user_relevant_items = dataset.products.loc[anchor_user['relevant_items']]\n",
    "user_relevant_items"
   ]
  },
  {
   "cell_type": "markdown",
   "metadata": {},
   "source": [
    "## Model testing"
   ]
  },
  {
   "cell_type": "markdown",
   "metadata": {},
   "source": [
    "### Random recommender\n",
    "\n",
    "We just take a selection at random from all possible products. We do not expect this model to get a match _ever_, but it is still fun to try."
   ]
  },
  {
   "cell_type": "code",
   "execution_count": null,
   "metadata": {},
   "outputs": [],
   "source": [
    "from models.random_model import RandomRecommender\n",
    "random_model = RandomRecommender(\n",
    "    dataset=dataset\n",
    ")\n",
    "results, model_info = random_model.recommend(user=anchor_user.name, item=anchor_item)\n",
    "model_info"
   ]
  },
  {
   "cell_type": "code",
   "execution_count": null,
   "metadata": {},
   "outputs": [],
   "source": [
    "results.matches"
   ]
  },
  {
   "cell_type": "code",
   "execution_count": 10,
   "metadata": {},
   "outputs": [
    {
     "name": "stderr",
     "output_type": "stream",
     "text": [
      "100%|██████████| 100/100 [00:05<00:00, 19.77it/s]\n"
     ]
    },
    {
     "name": "stdout",
     "output_type": "stream",
     "text": [
      "------------------------------------\n",
      "Random Recommender model - Performance\n",
      "------------------------------------\n",
      "Model setup time: 0.000s\n",
      "Average time: 0.002s\n",
      "Worst time: 0.002s\n",
      "Best time: 0.002s\n"
     ]
    },
    {
     "name": "stderr",
     "output_type": "stream",
     "text": [
      "100%|██████████| 100/100 [00:04<00:00, 22.90it/s]"
     ]
    },
    {
     "name": "stdout",
     "output_type": "stream",
     "text": [
      "------------------------------------\n",
      "Random Recommender model - Validation statistics\n",
      "------------------------------------\n",
      "+--------------+---------+--------+---------+--------+\n",
      "|    Metric    | Average | Median | Highest | Lowest |\n",
      "+--------------+---------+--------+---------+--------+\n",
      "|    MAP@10    |  0.0000 | 0.0000 |  0.0000 | 0.0000 |\n",
      "|     R@10     |  0.0000 | 0.0000 |  0.0000 | 0.0000 |\n",
      "| P@10 (HR@10) |  0.00%  | 0.00%  |  0.00%  | 0.00%  |\n",
      "|   Rank@10    |   nan   |  nan   |   nan   |  nan   |\n",
      "|  RecRank@10  |  0.0000 | 0.0000 |  0.0000 | 0.0000 |\n",
      "+--------------+---------+--------+---------+--------+\n",
      "------------------------------------\n",
      "Random Recommender model - Full statistics\n",
      "------------------------------------\n",
      "+--------------+---------+--------+---------+--------+\n",
      "|    Metric    | Average | Median | Highest | Lowest |\n",
      "+--------------+---------+--------+---------+--------+\n",
      "|    MAP@10    |  0.0000 | 0.0000 |  0.0000 | 0.0000 |\n",
      "|     R@10     |  0.0000 | 0.0000 |  0.0000 | 0.0000 |\n",
      "| P@10 (HR@10) |  0.00%  | 0.00%  |  0.00%  | 0.00%  |\n",
      "|   Rank@10    |   nan   |  nan   |   nan   |  nan   |\n",
      "|  RecRank@10  |  0.0000 | 0.0000 |  0.0000 | 0.0000 |\n",
      "+--------------+---------+--------+---------+--------+\n"
     ]
    },
    {
     "name": "stderr",
     "output_type": "stream",
     "text": [
      "\n",
      "/Users/josean/.conda/envs/recommender-systems/lib/python3.10/site-packages/numpy/lib/nanfunctions.py:1215: RuntimeWarning:\n",
      "\n",
      "Mean of empty slice\n",
      "\n",
      "/Users/josean/.conda/envs/recommender-systems/lib/python3.10/site-packages/numpy/lib/nanfunctions.py:1215: RuntimeWarning:\n",
      "\n",
      "Mean of empty slice\n",
      "\n"
     ]
    }
   ],
   "source": [
    "random_model.evaluate_performance()\n",
    "random_model.evaluate_accuracy(10)"
   ]
  },
  {
   "cell_type": "markdown",
   "metadata": {},
   "source": [
    "### Baseline recommender\n",
    "\n",
    "First approach at taking into consideration the interactions between products, by building a **co-occurrence** matrix: element `M(i,j)` contains the number of times products `i` and `j` are bought by the same person.\n",
    "\n",
    "Then, whenever we need to look for recommendations prompted by item `r`, we look at the row `M(r,·)` (or column `M(·,r)`) and get the `k` items with highest sales count.\n",
    "\n",
    "This model essentially recommends popular items (and therefore has all limitations attached to that method), but at least \"popularity\" is defined in an aggregated sense."
   ]
  },
  {
   "cell_type": "code",
   "execution_count": 11,
   "metadata": {},
   "outputs": [
    {
     "name": "stdout",
     "output_type": "stream",
     "text": [
      "Building co-occurrence matrix...\n",
      "Done\n"
     ]
    }
   ],
   "source": [
    "from models.baseline_model import BaselineRecommender\n",
    "baseline_model = BaselineRecommender(\n",
    "    dataset=dataset\n",
    ")"
   ]
  },
  {
   "cell_type": "markdown",
   "metadata": {},
   "source": [
    "This model gives us a good way to verify that in most cases (even more in real-world scenarios), the density of the relationship matrix (either item co-occurrence or user-item interaction) is very low:"
   ]
  },
  {
   "cell_type": "code",
   "execution_count": null,
   "metadata": {},
   "outputs": [],
   "source": [
    "baseline_model.matrix_density"
   ]
  },
  {
   "cell_type": "code",
   "execution_count": null,
   "metadata": {},
   "outputs": [
    {
     "data": {
      "text/html": [
       "<div>\n",
       "<style scoped>\n",
       "    .dataframe tbody tr th:only-of-type {\n",
       "        vertical-align: middle;\n",
       "    }\n",
       "\n",
       "    .dataframe tbody tr th {\n",
       "        vertical-align: top;\n",
       "    }\n",
       "\n",
       "    .dataframe thead th {\n",
       "        text-align: right;\n",
       "    }\n",
       "</style>\n",
       "<table border=\"1\" class=\"dataframe\">\n",
       "  <thead>\n",
       "    <tr style=\"text-align: right;\">\n",
       "      <th></th>\n",
       "      <th>category_id</th>\n",
       "      <th>category_code</th>\n",
       "      <th>brand</th>\n",
       "      <th>price</th>\n",
       "      <th>category_code_L1</th>\n",
       "      <th>category_code_L2</th>\n",
       "      <th>category_code_L3</th>\n",
       "      <th>category_code_L4</th>\n",
       "      <th>co-popularity</th>\n",
       "    </tr>\n",
       "  </thead>\n",
       "  <tbody>\n",
       "    <tr>\n",
       "      <th>P-1004873</th>\n",
       "      <td>2053013555631882655</td>\n",
       "      <td>electronics.smartphone</td>\n",
       "      <td>samsung</td>\n",
       "      <td>411.57</td>\n",
       "      <td>electronics</td>\n",
       "      <td>smartphone</td>\n",
       "      <td>None</td>\n",
       "      <td>None</td>\n",
       "      <td>734.0</td>\n",
       "    </tr>\n",
       "    <tr>\n",
       "      <th>P-1004767</th>\n",
       "      <td>2053013555631882655</td>\n",
       "      <td>electronics.smartphone</td>\n",
       "      <td>samsung</td>\n",
       "      <td>277.97</td>\n",
       "      <td>electronics</td>\n",
       "      <td>smartphone</td>\n",
       "      <td>None</td>\n",
       "      <td>None</td>\n",
       "      <td>381.0</td>\n",
       "    </tr>\n",
       "    <tr>\n",
       "      <th>P-1004870</th>\n",
       "      <td>2053013555631882655</td>\n",
       "      <td>electronics.smartphone</td>\n",
       "      <td>samsung</td>\n",
       "      <td>329.46</td>\n",
       "      <td>electronics</td>\n",
       "      <td>smartphone</td>\n",
       "      <td>None</td>\n",
       "      <td>None</td>\n",
       "      <td>332.0</td>\n",
       "    </tr>\n",
       "    <tr>\n",
       "      <th>P-1004856</th>\n",
       "      <td>2053013555631882655</td>\n",
       "      <td>electronics.smartphone</td>\n",
       "      <td>samsung</td>\n",
       "      <td>136.17</td>\n",
       "      <td>electronics</td>\n",
       "      <td>smartphone</td>\n",
       "      <td>None</td>\n",
       "      <td>None</td>\n",
       "      <td>199.0</td>\n",
       "    </tr>\n",
       "    <tr>\n",
       "      <th>P-1004874</th>\n",
       "      <td>2053013555631882655</td>\n",
       "      <td>electronics.smartphone</td>\n",
       "      <td>samsung</td>\n",
       "      <td>385.75</td>\n",
       "      <td>electronics</td>\n",
       "      <td>smartphone</td>\n",
       "      <td>None</td>\n",
       "      <td>None</td>\n",
       "      <td>193.0</td>\n",
       "    </tr>\n",
       "    <tr>\n",
       "      <th>P-1004872</th>\n",
       "      <td>2053013555631882655</td>\n",
       "      <td>electronics.smartphone</td>\n",
       "      <td>samsung</td>\n",
       "      <td>334.37</td>\n",
       "      <td>electronics</td>\n",
       "      <td>smartphone</td>\n",
       "      <td>None</td>\n",
       "      <td>None</td>\n",
       "      <td>164.0</td>\n",
       "    </tr>\n",
       "    <tr>\n",
       "      <th>P-1004768</th>\n",
       "      <td>2053013555631882655</td>\n",
       "      <td>electronics.smartphone</td>\n",
       "      <td>samsung</td>\n",
       "      <td>277.97</td>\n",
       "      <td>electronics</td>\n",
       "      <td>smartphone</td>\n",
       "      <td>None</td>\n",
       "      <td>None</td>\n",
       "      <td>141.0</td>\n",
       "    </tr>\n",
       "    <tr>\n",
       "      <th>P-1005115</th>\n",
       "      <td>2053013555631882655</td>\n",
       "      <td>electronics.smartphone</td>\n",
       "      <td>apple</td>\n",
       "      <td>1015.70</td>\n",
       "      <td>electronics</td>\n",
       "      <td>smartphone</td>\n",
       "      <td>None</td>\n",
       "      <td>None</td>\n",
       "      <td>133.0</td>\n",
       "    </tr>\n",
       "    <tr>\n",
       "      <th>P-1005014</th>\n",
       "      <td>2053013555631882655</td>\n",
       "      <td>electronics.smartphone</td>\n",
       "      <td>samsung</td>\n",
       "      <td>614.55</td>\n",
       "      <td>electronics</td>\n",
       "      <td>smartphone</td>\n",
       "      <td>None</td>\n",
       "      <td>None</td>\n",
       "      <td>130.0</td>\n",
       "    </tr>\n",
       "    <tr>\n",
       "      <th>P-1002544</th>\n",
       "      <td>2053013555631882655</td>\n",
       "      <td>electronics.smartphone</td>\n",
       "      <td>apple</td>\n",
       "      <td>499.35</td>\n",
       "      <td>electronics</td>\n",
       "      <td>smartphone</td>\n",
       "      <td>None</td>\n",
       "      <td>None</td>\n",
       "      <td>114.0</td>\n",
       "    </tr>\n",
       "  </tbody>\n",
       "</table>\n",
       "</div>"
      ],
      "text/plain": [
       "                   category_id           category_code    brand    price   \n",
       "P-1004873  2053013555631882655  electronics.smartphone  samsung   411.57  \\\n",
       "P-1004767  2053013555631882655  electronics.smartphone  samsung   277.97   \n",
       "P-1004870  2053013555631882655  electronics.smartphone  samsung   329.46   \n",
       "P-1004856  2053013555631882655  electronics.smartphone  samsung   136.17   \n",
       "P-1004874  2053013555631882655  electronics.smartphone  samsung   385.75   \n",
       "P-1004872  2053013555631882655  electronics.smartphone  samsung   334.37   \n",
       "P-1004768  2053013555631882655  electronics.smartphone  samsung   277.97   \n",
       "P-1005115  2053013555631882655  electronics.smartphone    apple  1015.70   \n",
       "P-1005014  2053013555631882655  electronics.smartphone  samsung   614.55   \n",
       "P-1002544  2053013555631882655  electronics.smartphone    apple   499.35   \n",
       "\n",
       "          category_code_L1 category_code_L2 category_code_L3 category_code_L4   \n",
       "P-1004873      electronics       smartphone             None             None  \\\n",
       "P-1004767      electronics       smartphone             None             None   \n",
       "P-1004870      electronics       smartphone             None             None   \n",
       "P-1004856      electronics       smartphone             None             None   \n",
       "P-1004874      electronics       smartphone             None             None   \n",
       "P-1004872      electronics       smartphone             None             None   \n",
       "P-1004768      electronics       smartphone             None             None   \n",
       "P-1005115      electronics       smartphone             None             None   \n",
       "P-1005014      electronics       smartphone             None             None   \n",
       "P-1002544      electronics       smartphone             None             None   \n",
       "\n",
       "           co-popularity  \n",
       "P-1004873          734.0  \n",
       "P-1004767          381.0  \n",
       "P-1004870          332.0  \n",
       "P-1004856          199.0  \n",
       "P-1004874          193.0  \n",
       "P-1004872          164.0  \n",
       "P-1004768          141.0  \n",
       "P-1005115          133.0  \n",
       "P-1005014          130.0  \n",
       "P-1002544          114.0  "
      ]
     },
     "execution_count": 12,
     "metadata": {},
     "output_type": "execute_result"
    }
   ],
   "source": [
    "results, model_info = baseline_model.recommend(user=anchor_user.name, item=anchor_item)\n",
    "model_info"
   ]
  },
  {
   "cell_type": "code",
   "execution_count": null,
   "metadata": {},
   "outputs": [
    {
     "data": {
      "text/plain": [
       "0     True\n",
       "1     True\n",
       "2     True\n",
       "3     True\n",
       "4    False\n",
       "5     True\n",
       "6    False\n",
       "7     True\n",
       "8     True\n",
       "9     True\n",
       "Name: matches, dtype: bool"
      ]
     },
     "execution_count": 13,
     "metadata": {},
     "output_type": "execute_result"
    }
   ],
   "source": [
    "results.matches"
   ]
  },
  {
   "cell_type": "code",
   "execution_count": null,
   "metadata": {},
   "outputs": [
    {
     "name": "stderr",
     "output_type": "stream",
     "text": [
      "100%|██████████| 100/100 [01:05<00:00,  1.53it/s]\n"
     ]
    },
    {
     "name": "stdout",
     "output_type": "stream",
     "text": [
      "------------------------------------\n",
      "Baseline Recommender model - Performance\n",
      "------------------------------------\n",
      "Model setup time: 53.288s\n",
      "Average time: 0.612s\n",
      "Worst time: 0.643s\n",
      "Best time: 0.598s\n"
     ]
    },
    {
     "name": "stderr",
     "output_type": "stream",
     "text": [
      "100%|██████████| 100/100 [01:05<00:00,  1.52it/s]"
     ]
    },
    {
     "name": "stdout",
     "output_type": "stream",
     "text": [
      "------------------------------------\n",
      "Baseline Recommender model - Validation statistics\n",
      "------------------------------------\n",
      "+--------------+---------+--------+---------+--------+\n",
      "|    Metric    | Average | Median | Highest | Lowest |\n",
      "+--------------+---------+--------+---------+--------+\n",
      "|    MAP@10    |  0.0785 | 0.0000 |  0.6429 | 0.0000 |\n",
      "|     R@10     |  0.1728 | 0.0000 |  1.0000 | 0.0000 |\n",
      "| P@10 (HR@10) |  4.10%  | 0.00%  |  30.00% | 0.00%  |\n",
      "|   Rank@10    |  3.3030 | 3.0000 |  8.0000 | 1.0000 |\n",
      "|  RecRank@10  |  0.1540 | 0.0000 |  1.0000 | 0.0000 |\n",
      "+--------------+---------+--------+---------+--------+\n",
      "------------------------------------\n",
      "Baseline Recommender model - Full statistics\n",
      "------------------------------------\n",
      "+--------------+---------+--------+---------+--------+\n",
      "|    Metric    | Average | Median | Highest | Lowest |\n",
      "+--------------+---------+--------+---------+--------+\n",
      "|    MAP@10    |  0.1374 | 0.0742 |  0.8521 | 0.0000 |\n",
      "|     R@10     |  0.1716 | 0.1333 |  0.7500 | 0.0000 |\n",
      "| P@10 (HR@10) |  23.30% | 20.00% |  90.00% | 0.00%  |\n",
      "|   Rank@10    |  2.9405 | 2.0000 | 10.0000 | 1.0000 |\n",
      "|  RecRank@10  |  0.4695 | 0.5000 |  1.0000 | 0.0000 |\n",
      "+--------------+---------+--------+---------+--------+\n"
     ]
    },
    {
     "name": "stderr",
     "output_type": "stream",
     "text": [
      "\n"
     ]
    }
   ],
   "source": [
    "baseline_model.evaluate_performance()\n",
    "baseline_model.evaluate_accuracy(10)"
   ]
  },
  {
   "cell_type": "markdown",
   "metadata": {},
   "source": [
    "### Ad-hoc recommender\n",
    "We use simple manual rules to determine the similarity score between two products.\n",
    "\n",
    "In this particular example, we set the rules as follows:\n",
    "- **Compute category proximity**: a percentage of how much the category of two products match. For example, two products from the same category have a score of 1, while one from `electronics.smartphones` and another from `electronics.headphones` have a score of 0.5. Keep only those with a score of at least 0.5 (parametrizable).\n",
    "- **Brand score**: 1 if they match, 0 otherwise. Scaled by a parameter.\n",
    "- **Popularity within category**: from selection, get percentile of each product when ordering by times sold. Scaled by a parameter.\n",
    "- **Cheapest first**: when two candidates have the same score, the cheapest gets priority."
   ]
  },
  {
   "cell_type": "code",
   "execution_count": null,
   "metadata": {},
   "outputs": [],
   "source": [
    "from models.ad_hoc_model import AdHocRecommender\n",
    "ad_hoc_model = AdHocRecommender(\n",
    "    dataset=dataset\n",
    ")"
   ]
  },
  {
   "cell_type": "code",
   "execution_count": null,
   "metadata": {},
   "outputs": [
    {
     "data": {
      "text/html": [
       "<div>\n",
       "<style scoped>\n",
       "    .dataframe tbody tr th:only-of-type {\n",
       "        vertical-align: middle;\n",
       "    }\n",
       "\n",
       "    .dataframe tbody tr th {\n",
       "        vertical-align: top;\n",
       "    }\n",
       "\n",
       "    .dataframe thead th {\n",
       "        text-align: right;\n",
       "    }\n",
       "</style>\n",
       "<table border=\"1\" class=\"dataframe\">\n",
       "  <thead>\n",
       "    <tr style=\"text-align: right;\">\n",
       "      <th></th>\n",
       "      <th>brand</th>\n",
       "      <th>price</th>\n",
       "      <th>category_code_L1</th>\n",
       "      <th>category_code_L2</th>\n",
       "      <th>category_code_L3</th>\n",
       "      <th>category_code_L4</th>\n",
       "      <th>category_score</th>\n",
       "      <th>brand_score</th>\n",
       "      <th>popularity_score</th>\n",
       "      <th>score</th>\n",
       "    </tr>\n",
       "    <tr>\n",
       "      <th>product_id</th>\n",
       "      <th></th>\n",
       "      <th></th>\n",
       "      <th></th>\n",
       "      <th></th>\n",
       "      <th></th>\n",
       "      <th></th>\n",
       "      <th></th>\n",
       "      <th></th>\n",
       "      <th></th>\n",
       "      <th></th>\n",
       "    </tr>\n",
       "  </thead>\n",
       "  <tbody>\n",
       "    <tr>\n",
       "      <th>P-1004856</th>\n",
       "      <td>samsung</td>\n",
       "      <td>136.17</td>\n",
       "      <td>electronics</td>\n",
       "      <td>smartphone</td>\n",
       "      <td>None</td>\n",
       "      <td>None</td>\n",
       "      <td>1.0</td>\n",
       "      <td>True</td>\n",
       "      <td>0.067259</td>\n",
       "      <td>0.067726</td>\n",
       "    </tr>\n",
       "    <tr>\n",
       "      <th>P-1004767</th>\n",
       "      <td>samsung</td>\n",
       "      <td>277.97</td>\n",
       "      <td>electronics</td>\n",
       "      <td>smartphone</td>\n",
       "      <td>None</td>\n",
       "      <td>None</td>\n",
       "      <td>1.0</td>\n",
       "      <td>True</td>\n",
       "      <td>0.048765</td>\n",
       "      <td>0.049241</td>\n",
       "    </tr>\n",
       "    <tr>\n",
       "      <th>P-1005115</th>\n",
       "      <td>apple</td>\n",
       "      <td>1015.70</td>\n",
       "      <td>electronics</td>\n",
       "      <td>smartphone</td>\n",
       "      <td>None</td>\n",
       "      <td>None</td>\n",
       "      <td>1.0</td>\n",
       "      <td>False</td>\n",
       "      <td>0.038191</td>\n",
       "      <td>0.038171</td>\n",
       "    </tr>\n",
       "    <tr>\n",
       "      <th>P-1004833</th>\n",
       "      <td>samsung</td>\n",
       "      <td>180.16</td>\n",
       "      <td>electronics</td>\n",
       "      <td>smartphone</td>\n",
       "      <td>None</td>\n",
       "      <td>None</td>\n",
       "      <td>1.0</td>\n",
       "      <td>True</td>\n",
       "      <td>0.028745</td>\n",
       "      <td>0.029230</td>\n",
       "    </tr>\n",
       "    <tr>\n",
       "      <th>P-1002544</th>\n",
       "      <td>apple</td>\n",
       "      <td>499.35</td>\n",
       "      <td>electronics</td>\n",
       "      <td>smartphone</td>\n",
       "      <td>None</td>\n",
       "      <td>None</td>\n",
       "      <td>1.0</td>\n",
       "      <td>False</td>\n",
       "      <td>0.024402</td>\n",
       "      <td>0.024389</td>\n",
       "    </tr>\n",
       "    <tr>\n",
       "      <th>P-1004870</th>\n",
       "      <td>samsung</td>\n",
       "      <td>329.46</td>\n",
       "      <td>electronics</td>\n",
       "      <td>smartphone</td>\n",
       "      <td>None</td>\n",
       "      <td>None</td>\n",
       "      <td>1.0</td>\n",
       "      <td>True</td>\n",
       "      <td>0.023371</td>\n",
       "      <td>0.023859</td>\n",
       "    </tr>\n",
       "    <tr>\n",
       "      <th>P-1004249</th>\n",
       "      <td>apple</td>\n",
       "      <td>849.16</td>\n",
       "      <td>electronics</td>\n",
       "      <td>smartphone</td>\n",
       "      <td>None</td>\n",
       "      <td>None</td>\n",
       "      <td>1.0</td>\n",
       "      <td>False</td>\n",
       "      <td>0.019729</td>\n",
       "      <td>0.019719</td>\n",
       "    </tr>\n",
       "    <tr>\n",
       "      <th>P-1004836</th>\n",
       "      <td>samsung</td>\n",
       "      <td>254.81</td>\n",
       "      <td>electronics</td>\n",
       "      <td>smartphone</td>\n",
       "      <td>None</td>\n",
       "      <td>None</td>\n",
       "      <td>1.0</td>\n",
       "      <td>True</td>\n",
       "      <td>0.017070</td>\n",
       "      <td>0.017562</td>\n",
       "    </tr>\n",
       "    <tr>\n",
       "      <th>P-1005105</th>\n",
       "      <td>apple</td>\n",
       "      <td>1450.72</td>\n",
       "      <td>electronics</td>\n",
       "      <td>smartphone</td>\n",
       "      <td>None</td>\n",
       "      <td>None</td>\n",
       "      <td>1.0</td>\n",
       "      <td>False</td>\n",
       "      <td>0.017320</td>\n",
       "      <td>0.017311</td>\n",
       "    </tr>\n",
       "    <tr>\n",
       "      <th>P-1005100</th>\n",
       "      <td>samsung</td>\n",
       "      <td>154.42</td>\n",
       "      <td>electronics</td>\n",
       "      <td>smartphone</td>\n",
       "      <td>None</td>\n",
       "      <td>None</td>\n",
       "      <td>1.0</td>\n",
       "      <td>True</td>\n",
       "      <td>0.016214</td>\n",
       "      <td>0.016706</td>\n",
       "    </tr>\n",
       "  </tbody>\n",
       "</table>\n",
       "</div>"
      ],
      "text/plain": [
       "              brand    price category_code_L1 category_code_L2   \n",
       "product_id                                                       \n",
       "P-1004856   samsung   136.17      electronics       smartphone  \\\n",
       "P-1004767   samsung   277.97      electronics       smartphone   \n",
       "P-1005115     apple  1015.70      electronics       smartphone   \n",
       "P-1004833   samsung   180.16      electronics       smartphone   \n",
       "P-1002544     apple   499.35      electronics       smartphone   \n",
       "P-1004870   samsung   329.46      electronics       smartphone   \n",
       "P-1004249     apple   849.16      electronics       smartphone   \n",
       "P-1004836   samsung   254.81      electronics       smartphone   \n",
       "P-1005105     apple  1450.72      electronics       smartphone   \n",
       "P-1005100   samsung   154.42      electronics       smartphone   \n",
       "\n",
       "           category_code_L3 category_code_L4  category_score  brand_score   \n",
       "product_id                                                                  \n",
       "P-1004856              None             None             1.0         True  \\\n",
       "P-1004767              None             None             1.0         True   \n",
       "P-1005115              None             None             1.0        False   \n",
       "P-1004833              None             None             1.0         True   \n",
       "P-1002544              None             None             1.0        False   \n",
       "P-1004870              None             None             1.0         True   \n",
       "P-1004249              None             None             1.0        False   \n",
       "P-1004836              None             None             1.0         True   \n",
       "P-1005105              None             None             1.0        False   \n",
       "P-1005100              None             None             1.0         True   \n",
       "\n",
       "            popularity_score     score  \n",
       "product_id                              \n",
       "P-1004856           0.067259  0.067726  \n",
       "P-1004767           0.048765  0.049241  \n",
       "P-1005115           0.038191  0.038171  \n",
       "P-1004833           0.028745  0.029230  \n",
       "P-1002544           0.024402  0.024389  \n",
       "P-1004870           0.023371  0.023859  \n",
       "P-1004249           0.019729  0.019719  \n",
       "P-1004836           0.017070  0.017562  \n",
       "P-1005105           0.017320  0.017311  \n",
       "P-1005100           0.016214  0.016706  "
      ]
     },
     "execution_count": 16,
     "metadata": {},
     "output_type": "execute_result"
    }
   ],
   "source": [
    "results, model_info = ad_hoc_model.recommend(user=anchor_user.name, item=anchor_item)\n",
    "model_info"
   ]
  },
  {
   "cell_type": "code",
   "execution_count": null,
   "metadata": {},
   "outputs": [
    {
     "data": {
      "text/plain": [
       "0    True\n",
       "1    True\n",
       "2    True\n",
       "3    True\n",
       "4    True\n",
       "5    True\n",
       "6    True\n",
       "7    True\n",
       "8    True\n",
       "9    True\n",
       "Name: matches, dtype: bool"
      ]
     },
     "execution_count": 17,
     "metadata": {},
     "output_type": "execute_result"
    }
   ],
   "source": [
    "results.matches"
   ]
  },
  {
   "cell_type": "code",
   "execution_count": null,
   "metadata": {},
   "outputs": [
    {
     "name": "stderr",
     "output_type": "stream",
     "text": [
      "100%|██████████| 100/100 [00:08<00:00, 11.15it/s]\n"
     ]
    },
    {
     "name": "stdout",
     "output_type": "stream",
     "text": [
      "------------------------------------\n",
      "Ad-Hoc Recommender model - Performance\n",
      "------------------------------------\n",
      "Model setup time: 0.000s\n",
      "Average time: 0.049s\n",
      "Worst time: 0.054s\n",
      "Best time: 0.037s\n"
     ]
    },
    {
     "name": "stderr",
     "output_type": "stream",
     "text": [
      "100%|██████████| 100/100 [00:09<00:00, 11.08it/s]"
     ]
    },
    {
     "name": "stdout",
     "output_type": "stream",
     "text": [
      "------------------------------------\n",
      "Ad-Hoc Recommender model - Validation statistics\n",
      "------------------------------------\n",
      "+--------------+---------+--------+---------+--------+\n",
      "|    Metric    | Average | Median | Highest | Lowest |\n",
      "+--------------+---------+--------+---------+--------+\n",
      "|    MAP@10    |  0.0699 | 0.0000 |  0.7500 | 0.0000 |\n",
      "|     R@10     |  0.1588 | 0.0000 |  1.0000 | 0.0000 |\n",
      "| P@10 (HR@10) |  4.00%  | 0.00%  |  20.00% | 0.00%  |\n",
      "|   Rank@10    |  3.8750 | 3.0000 | 10.0000 | 1.0000 |\n",
      "|  RecRank@10  |  0.1456 | 0.0000 |  1.0000 | 0.0000 |\n",
      "+--------------+---------+--------+---------+--------+\n",
      "------------------------------------\n",
      "Ad-Hoc Recommender model - Full statistics\n",
      "------------------------------------\n",
      "+--------------+---------+--------+---------+--------+\n",
      "|    Metric    | Average | Median | Highest | Lowest |\n",
      "+--------------+---------+--------+---------+--------+\n",
      "|    MAP@10    |  0.1008 | 0.0500 |  0.5583 | 0.0000 |\n",
      "|     R@10     |  0.1294 | 0.1000 |  0.5000 | 0.0000 |\n",
      "| P@10 (HR@10) |  16.90% | 10.00% |  60.00% | 0.00%  |\n",
      "|   Rank@10    |  3.0278 | 2.0000 | 10.0000 | 1.0000 |\n",
      "|  RecRank@10  |  0.4177 | 0.3333 |  1.0000 | 0.0000 |\n",
      "+--------------+---------+--------+---------+--------+\n"
     ]
    },
    {
     "name": "stderr",
     "output_type": "stream",
     "text": [
      "\n"
     ]
    }
   ],
   "source": [
    "ad_hoc_model.evaluate_performance()\n",
    "ad_hoc_model.evaluate_accuracy(10)"
   ]
  },
  {
   "cell_type": "markdown",
   "metadata": {},
   "source": [
    "### Word2Vec model\n",
    "\n",
    "We leverage tools developed originally for NLP tasks, such as word vectorization embeddings, to help us detect patterns in items bought together, instead of relying purely on buy count.\n",
    "\n",
    "For this, we apply the Word2Vec model: it is a shallow neural network (only with 1 layer) used to build embeddings of the one-hot encoding of a \"vocabulary\" into a much smaller dimensional space, using a corpus of \"sentences\" (order lists of \"words\") as a guide for how often words appear next to each other.\n",
    "\n",
    "Two possible modalities exist for the Word2Vec algorithm: the Skip-Gram (SG) and the Continous-Bag-of-Words (CBOW). Both are useful to our particular case, but we will be using the first one. To put it simply,\n",
    "- **Skip-Gram** takes one word as input, and outputs the probability of each word being within its window.\n",
    "- **CBOW** takes a window without the middle word, and outputs the probability of each word being the missing word.\n",
    "\n",
    "More information can be found in this fantastic article by [FastForwardLabs](https://session-based-recommenders.fastforwardlabs.com/), from which we took this infographic:\n",
    "![](images/word2vec.png)"
   ]
  },
  {
   "cell_type": "code",
   "execution_count": null,
   "metadata": {},
   "outputs": [
    {
     "name": "stdout",
     "output_type": "stream",
     "text": [
      "Extracting user sessions...\n",
      "Training model...\n",
      "Done!\n"
     ]
    }
   ],
   "source": [
    "from models.word2vec_model import Word2VecRecommender\n",
    "word2vec_model = Word2VecRecommender(\n",
    "    dataset=dataset\n",
    ")"
   ]
  },
  {
   "cell_type": "code",
   "execution_count": null,
   "metadata": {},
   "outputs": [
    {
     "data": {
      "text/html": [
       "<div>\n",
       "<style scoped>\n",
       "    .dataframe tbody tr th:only-of-type {\n",
       "        vertical-align: middle;\n",
       "    }\n",
       "\n",
       "    .dataframe tbody tr th {\n",
       "        vertical-align: top;\n",
       "    }\n",
       "\n",
       "    .dataframe thead th {\n",
       "        text-align: right;\n",
       "    }\n",
       "</style>\n",
       "<table border=\"1\" class=\"dataframe\">\n",
       "  <thead>\n",
       "    <tr style=\"text-align: right;\">\n",
       "      <th></th>\n",
       "      <th>brand</th>\n",
       "      <th>price</th>\n",
       "      <th>category_code_L1</th>\n",
       "      <th>category_code_L2</th>\n",
       "      <th>category_code_L3</th>\n",
       "      <th>category_code_L4</th>\n",
       "    </tr>\n",
       "    <tr>\n",
       "      <th>product_id</th>\n",
       "      <th></th>\n",
       "      <th></th>\n",
       "      <th></th>\n",
       "      <th></th>\n",
       "      <th></th>\n",
       "      <th></th>\n",
       "    </tr>\n",
       "  </thead>\n",
       "  <tbody>\n",
       "    <tr>\n",
       "      <th>P-2800590</th>\n",
       "      <td>dauscher</td>\n",
       "      <td>347.24</td>\n",
       "      <td>appliances</td>\n",
       "      <td>kitchen</td>\n",
       "      <td>refrigerators</td>\n",
       "      <td>None</td>\n",
       "    </tr>\n",
       "    <tr>\n",
       "      <th>P-28716958</th>\n",
       "      <td>respect</td>\n",
       "      <td>118.15</td>\n",
       "      <td>apparel</td>\n",
       "      <td>shoes</td>\n",
       "      <td>None</td>\n",
       "      <td>None</td>\n",
       "    </tr>\n",
       "    <tr>\n",
       "      <th>P-12300842</th>\n",
       "      <td>crown</td>\n",
       "      <td>43.50</td>\n",
       "      <td>construction</td>\n",
       "      <td>tools</td>\n",
       "      <td>drill</td>\n",
       "      <td>None</td>\n",
       "    </tr>\n",
       "    <tr>\n",
       "      <th>P-1003894</th>\n",
       "      <td>lg</td>\n",
       "      <td>408.37</td>\n",
       "      <td>electronics</td>\n",
       "      <td>smartphone</td>\n",
       "      <td>None</td>\n",
       "      <td>None</td>\n",
       "    </tr>\n",
       "    <tr>\n",
       "      <th>P-28716953</th>\n",
       "      <td>respect</td>\n",
       "      <td>118.15</td>\n",
       "      <td>apparel</td>\n",
       "      <td>shoes</td>\n",
       "      <td>None</td>\n",
       "      <td>None</td>\n",
       "    </tr>\n",
       "    <tr>\n",
       "      <th>P-1004528</th>\n",
       "      <td>samsung</td>\n",
       "      <td>506.26</td>\n",
       "      <td>electronics</td>\n",
       "      <td>smartphone</td>\n",
       "      <td>None</td>\n",
       "      <td>None</td>\n",
       "    </tr>\n",
       "    <tr>\n",
       "      <th>P-1307443</th>\n",
       "      <td>asus</td>\n",
       "      <td>545.68</td>\n",
       "      <td>computers</td>\n",
       "      <td>notebook</td>\n",
       "      <td>None</td>\n",
       "      <td>None</td>\n",
       "    </tr>\n",
       "    <tr>\n",
       "      <th>P-100012188</th>\n",
       "      <td>respect</td>\n",
       "      <td>66.41</td>\n",
       "      <td>apparel</td>\n",
       "      <td>shoes</td>\n",
       "      <td>None</td>\n",
       "      <td>None</td>\n",
       "    </tr>\n",
       "    <tr>\n",
       "      <th>P-28716954</th>\n",
       "      <td>respect</td>\n",
       "      <td>118.15</td>\n",
       "      <td>apparel</td>\n",
       "      <td>shoes</td>\n",
       "      <td>None</td>\n",
       "      <td>None</td>\n",
       "    </tr>\n",
       "    <tr>\n",
       "      <th>P-18900031</th>\n",
       "      <td>nikon</td>\n",
       "      <td>705.91</td>\n",
       "      <td>electronics</td>\n",
       "      <td>camera</td>\n",
       "      <td>photo</td>\n",
       "      <td>None</td>\n",
       "    </tr>\n",
       "  </tbody>\n",
       "</table>\n",
       "</div>"
      ],
      "text/plain": [
       "                brand   price category_code_L1 category_code_L2   \n",
       "product_id                                                        \n",
       "P-2800590    dauscher  347.24       appliances          kitchen  \\\n",
       "P-28716958    respect  118.15          apparel            shoes   \n",
       "P-12300842      crown   43.50     construction            tools   \n",
       "P-1003894          lg  408.37      electronics       smartphone   \n",
       "P-28716953    respect  118.15          apparel            shoes   \n",
       "P-1004528     samsung  506.26      electronics       smartphone   \n",
       "P-1307443        asus  545.68        computers         notebook   \n",
       "P-100012188   respect   66.41          apparel            shoes   \n",
       "P-28716954    respect  118.15          apparel            shoes   \n",
       "P-18900031      nikon  705.91      electronics           camera   \n",
       "\n",
       "            category_code_L3 category_code_L4  \n",
       "product_id                                     \n",
       "P-2800590      refrigerators             None  \n",
       "P-28716958              None             None  \n",
       "P-12300842             drill             None  \n",
       "P-1003894               None             None  \n",
       "P-28716953              None             None  \n",
       "P-1004528               None             None  \n",
       "P-1307443               None             None  \n",
       "P-100012188             None             None  \n",
       "P-28716954              None             None  \n",
       "P-18900031             photo             None  "
      ]
     },
     "execution_count": 20,
     "metadata": {},
     "output_type": "execute_result"
    }
   ],
   "source": [
    "results, model_info = word2vec_model.recommend(user=anchor_user.name, item=anchor_item)\n",
    "model_info"
   ]
  },
  {
   "cell_type": "code",
   "execution_count": null,
   "metadata": {},
   "outputs": [
    {
     "data": {
      "text/plain": [
       "0    False\n",
       "1    False\n",
       "2    False\n",
       "3    False\n",
       "4    False\n",
       "5    False\n",
       "6    False\n",
       "7    False\n",
       "8    False\n",
       "9    False\n",
       "Name: matches, dtype: bool"
      ]
     },
     "execution_count": 21,
     "metadata": {},
     "output_type": "execute_result"
    }
   ],
   "source": [
    "results.matches"
   ]
  },
  {
   "cell_type": "code",
   "execution_count": null,
   "metadata": {},
   "outputs": [
    {
     "name": "stderr",
     "output_type": "stream",
     "text": [
      "100%|██████████| 100/100 [00:08<00:00, 11.18it/s]\n"
     ]
    },
    {
     "name": "stdout",
     "output_type": "stream",
     "text": [
      "------------------------------------\n",
      "Ad-Hoc Recommender model - Performance\n",
      "------------------------------------\n",
      "Model setup time: 0.000s\n",
      "Average time: 0.048s\n",
      "Worst time: 0.053s\n",
      "Best time: 0.036s\n"
     ]
    },
    {
     "name": "stderr",
     "output_type": "stream",
     "text": [
      "100%|██████████| 100/100 [00:09<00:00, 11.03it/s]"
     ]
    },
    {
     "name": "stdout",
     "output_type": "stream",
     "text": [
      "------------------------------------\n",
      "Ad-Hoc Recommender model - Validation statistics\n",
      "------------------------------------\n",
      "+--------------+---------+--------+---------+--------+\n",
      "|    Metric    | Average | Median | Highest | Lowest |\n",
      "+--------------+---------+--------+---------+--------+\n",
      "|    MAP@10    |  0.0745 | 0.0000 |  1.0000 | 0.0000 |\n",
      "|     R@10     |  0.1935 | 0.0000 |  1.0000 | 0.0000 |\n",
      "| P@10 (HR@10) |  4.80%  | 0.00%  |  30.00% | 0.00%  |\n",
      "|   Rank@10    |  4.1389 | 3.5000 | 10.0000 | 1.0000 |\n",
      "|  RecRank@10  |  0.1406 | 0.0000 |  1.0000 | 0.0000 |\n",
      "+--------------+---------+--------+---------+--------+\n",
      "------------------------------------\n",
      "Ad-Hoc Recommender model - Full statistics\n",
      "------------------------------------\n",
      "+--------------+---------+--------+---------+--------+\n",
      "|    Metric    | Average | Median | Highest | Lowest |\n",
      "+--------------+---------+--------+---------+--------+\n",
      "|    MAP@10    |  0.1194 | 0.0542 |  0.7161 | 0.0000 |\n",
      "|     R@10     |  0.1525 | 0.1000 |  0.6667 | 0.0000 |\n",
      "| P@10 (HR@10) |  20.80% | 20.00% |  80.00% | 0.00%  |\n",
      "|   Rank@10    |  2.8784 | 2.0000 |  9.0000 | 1.0000 |\n",
      "|  RecRank@10  |  0.4144 | 0.3333 |  1.0000 | 0.0000 |\n",
      "+--------------+---------+--------+---------+--------+\n"
     ]
    },
    {
     "name": "stderr",
     "output_type": "stream",
     "text": [
      "\n"
     ]
    }
   ],
   "source": [
    "word2vec_model.evaluate_performance()\n",
    "word2vec_model.evaluate_accuracy(10)"
   ]
  },
  {
   "cell_type": "markdown",
   "source": [
    "### Matrix Factorization model\n",
    "\n",
    "One of the first models to pop up in the context of recommendation systems was [FunkSVD](https://github.com/gbolmier/funk-svd), an algorithm based on a factorization of the **user-item rating** matrix.\n",
    "\n",
    "Let's assume that `n = number of users`, `m = number of items`, and fix a natural number `1 <= k`. The *rating matrix* `R` is constructed so that `R(i,j)` is the \"rating\" that user `i` gave to item `j` (this can be an explicit, fixed-range rating, or some sort of implicit feedback for the interaction, positive, negative...), of size `n x m`. By desing, `R` is a **sparse** matrix that we want to fill in. To do this, we attempt to factor the matrix `R` into smaller, lower-rank matrices. **FunkSVD** applies singular value decomposition to `R`, and fills missing values in the matrix by carrying out the product of the decomposition.\n",
    "\n",
    "Our MF model will try to factor `R` into two matrices, `U` and `P`, of sizes `n x k` and `k x m`. Here, `k` is the dimension of the **latent feature space**: both `U` and `P` work as embeddings of users and products into a common, \"latent feature\" lower-dimensional space, where each component represents a concept or \"latent feature\".\n",
    "\n",
    "![](res/images/mf.png)\n",
    "\n",
    "We can understand this latent features as `k` inferred concepts by the model, so that `U` (`P`) transforms each user (item) into its \"affinity\" to each concept. Then, to get the likelihood that user `i` likes item `j`, we just take the dot product of `U_i` and `P_j`.\n",
    "\n",
    "![](res/images/latent_features.png)"
   ],
   "metadata": {
    "collapsed": false
   }
  },
  {
   "cell_type": "code",
   "execution_count": null,
   "outputs": [],
   "source": [],
   "metadata": {
    "collapsed": false
   }
  }
 ],
 "metadata": {
  "kernelspec": {
   "display_name": "recommender-systems",
   "language": "python",
   "name": "recommender-systems"
  },
  "language_info": {
   "codemirror_mode": {
    "name": "ipython",
    "version": 3
   },
   "file_extension": ".py",
   "mimetype": "text/x-python",
   "name": "python",
   "nbconvert_exporter": "python",
   "pygments_lexer": "ipython3",
   "version": "3.10.8"
  }
 },
 "nbformat": 4,
 "nbformat_minor": 1
}
